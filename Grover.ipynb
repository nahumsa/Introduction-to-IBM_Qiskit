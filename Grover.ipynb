{
 "cells": [
  {
   "cell_type": "code",
   "execution_count": 2,
   "metadata": {},
   "outputs": [
    {
     "data": {
      "text/html": [
       "<h3>Version Information</h3><table><tr><th>Qiskit Software</th><th>Version</th></tr><tr><td>Qiskit</td><td>0.13.0</td></tr><tr><td>Terra</td><td>0.10.0</td></tr><tr><td>Aer</td><td>0.3.2</td></tr><tr><td>Ignis</td><td>0.2.0</td></tr><tr><td>Aqua</td><td>0.6.1</td></tr><tr><td>IBM Q Provider</td><td>0.3.3</td></tr><tr><th>System information</th></tr><tr><td>Python</td><td>3.7.3 | packaged by conda-forge | (default, Jul  1 2019, 21:52:21) \n",
       "[GCC 7.3.0]</td></tr><tr><td>OS</td><td>Linux</td></tr><tr><td>CPUs</td><td>2</td></tr><tr><td>Memory (Gb)</td><td>7.6641387939453125</td></tr><tr><td colspan='2'>Thu Jan 23 23:03:38 2020 -03</td></tr></table>"
      ],
      "text/plain": [
       "<IPython.core.display.HTML object>"
      ]
     },
     "metadata": {},
     "output_type": "display_data"
    }
   ],
   "source": [
    "from qiskit.tools.jupyter import *\n",
    "%qiskit_version_table"
   ]
  },
  {
   "cell_type": "markdown",
   "metadata": {
    "toc": true
   },
   "source": [
    "<h1>Table of Contents<span class=\"tocSkip\"></span></h1>\n",
    "<div class=\"toc\"><ul class=\"toc-item\"><li><span><a href=\"#Grover's-Algorithm\" data-toc-modified-id=\"Grover's-Algorithm-1\"><span class=\"toc-item-num\">1&nbsp;&nbsp;</span>Grover's Algorithm</a></span><ul class=\"toc-item\"><li><span><a href=\"#Circuit\" data-toc-modified-id=\"Circuit-1.1\"><span class=\"toc-item-num\">1.1&nbsp;&nbsp;</span>Circuit</a></span></li><li><span><a href=\"#Simulation\" data-toc-modified-id=\"Simulation-1.2\"><span class=\"toc-item-num\">1.2&nbsp;&nbsp;</span>Simulation</a></span></li><li><span><a href=\"#Running-on-IBMQ\" data-toc-modified-id=\"Running-on-IBMQ-1.3\"><span class=\"toc-item-num\">1.3&nbsp;&nbsp;</span>Running on IBMQ</a></span></li></ul></li></ul></div>"
   ]
  },
  {
   "cell_type": "markdown",
   "metadata": {},
   "source": [
    "# Grover's Algorithm"
   ]
  },
  {
   "cell_type": "markdown",
   "metadata": {},
   "source": [
    "Here I will follow the [Qiskit Book](https://qiskit.org/textbook/ch-algorithms/grover.html) and we will focus on the implementation for $N=4$, but the algorithm implementation is not hard to scale up for any $N$.\n",
    "\n",
    "The first part of the algorithm is to build an oracle that marks the desired state, let's consider the marked up state $\\left| 11 \\right>$.\n",
    "\n",
    "Therefore, we need that the oracle acts as follows:\n",
    "\n",
    "\\begin{equation}\n",
    "    O \\left|s \\right> = O \\ \\frac{1}{2} \\ \\bigg( \\left| 00 \\right> + \\left| 01 \\right> + \\left| 10 \\right> + \\left| 11 \\right> \\bigg) = \\frac{1}{2} \\ \\bigg( \\left| 00 \\right> + \\left| 01 \\right> + \\left| 10 \\right> - \\left| 11 \\right> \\bigg)\n",
    "\\end{equation}\n",
    "\n",
    "This is the same as a controled Z gate, that means if your first qubit is $\\left| 1 \\right>$, then you apply an Z operator on the seccond qubit:\n",
    "\n",
    "\\begin{equation}\n",
    "    \\mathrm{CZ} = \\left| 0 \\right> \\left< 0 \\right| \\otimes 1 + \\left| 1 \\right> \\left< 1 \\right| \\otimes Z\n",
    "\\end{equation}\n",
    "\n"
   ]
  },
  {
   "cell_type": "markdown",
   "metadata": {},
   "source": [
    "This can be done by the reflection: $D = 2 \\left| s \\right> \\left< s \\right| - 1$. \n",
    "\n",
    "It can be shown that: $D = H^{2\\otimes}D'H^{2\\otimes}$, where:\n",
    "\n",
    "\\begin{equation}\n",
    "    D' = \\begin{pmatrix}\n",
    "    1 &  0  & 0 & 0 \\\\\n",
    "    0 & -1  & 0 & 0 \\\\\n",
    "    0 &  0 & -1 & 0 \\\\\n",
    "    0 &  0 & 0 & -1\n",
    "    \\end{pmatrix}\n",
    "\\end{equation}\n",
    "\n",
    "Therefore:\n",
    "\n",
    "\\begin{equation}\n",
    "    D' \\left|s\\right> = \\frac{1}{2} \\ \\bigg( \\left|00\\right> - \\left|01\\right> - \\left|10\\right> - \\left|11\\right> \\bigg)\n",
    "\\end{equation}\n",
    "\n",
    "We know that the state $\\left| 00 \\right>$ is the only one that changes the sign and we also know that we can change the sign of $\\left| 11 \\right>$ by an CZ gate. The other signs can be changed using Z gates on each qubit, because $Z \\left| i\\right> = (-1)^i \\left|i \\right>$."
   ]
  },
  {
   "cell_type": "code",
   "execution_count": 1,
   "metadata": {},
   "outputs": [],
   "source": [
    "%matplotlib inline\n",
    "import qiskit as Qsk\n",
    "import numpy as np\n",
    "import matplotlib.pyplot as plt"
   ]
  },
  {
   "cell_type": "markdown",
   "metadata": {},
   "source": [
    "## Circuit"
   ]
  },
  {
   "cell_type": "code",
   "execution_count": 24,
   "metadata": {},
   "outputs": [],
   "source": [
    "Q_Reg = Qsk.QuantumRegister(2)\n",
    "C_Reg = Qsk.ClassicalRegister(2)\n",
    "Q_Circuit = Qsk.QuantumCircuit(Q_Reg,C_Reg)"
   ]
  },
  {
   "cell_type": "code",
   "execution_count": 25,
   "metadata": {},
   "outputs": [],
   "source": [
    "#Grover\n",
    "\n",
    "Q_Circuit.h(Q_Reg);\n",
    "Q_Circuit.cz(Q_Reg[0],Q_Reg[1]);\n",
    "Q_Circuit.h(Q_Reg);\n",
    "Q_Circuit.z(Q_Reg);\n",
    "Q_Circuit.cz(Q_Reg[0],Q_Reg[1]);\n",
    "Q_Circuit.h(Q_Reg);\n",
    "\n",
    "#Measurement\n",
    "\n",
    "Q_Circuit.barrier(Q_Reg);\n",
    "Q_Circuit.measure(Q_Reg,C_Reg);"
   ]
  },
  {
   "cell_type": "code",
   "execution_count": 26,
   "metadata": {},
   "outputs": [
    {
     "data": {
      "image/png": "[encoded data removed]",
      "text/plain": [
       "<Figure size 709.156x204.68 with 1 Axes>"
      ]
     },
     "execution_count": 26,
     "metadata": {},
     "output_type": "execute_result"
    }
   ],
   "source": [
    "Q_Circuit.draw(output='mpl')"
   ]
  },
  {
   "cell_type": "markdown",
   "metadata": {},
   "source": [
    "## Simulation"
   ]
  },
  {
   "cell_type": "code",
   "execution_count": 28,
   "metadata": {},
   "outputs": [
    {
     "name": "stdout",
     "output_type": "stream",
     "text": [
      "{'11': 1024}\n"
     ]
    }
   ],
   "source": [
    "backend_sim = Qsk.Aer.get_backend('qasm_simulator')\n",
    "job_sim = Qsk.execute(Q_Circuit, backend_sim, shots=1024)\n",
    "result_sim = job_sim.result()\n",
    "counts = result_sim.get_counts(Q_Circuit)\n",
    "print(counts)"
   ]
  },
  {
   "cell_type": "code",
   "execution_count": 29,
   "metadata": {},
   "outputs": [
    {
     "data": {
      "image/png": "[encoded data removed]",
      "text/plain": [
       "<Figure size 504x360 with 1 Axes>"
      ]
     },
     "execution_count": 29,
     "metadata": {},
     "output_type": "execute_result"
    }
   ],
   "source": [
    "from qiskit.visualization import plot_histogram\n",
    "plot_histogram(counts)"
   ]
  },
  {
   "cell_type": "markdown",
   "metadata": {},
   "source": [
    "## Running on IBMQ"
   ]
  },
  {
   "cell_type": "code",
   "execution_count": 30,
   "metadata": {},
   "outputs": [],
   "source": [
    "from qiskit import IBMQ\n",
    "\n",
    "IBMQ.load_account();\n",
    "provider = IBMQ.get_provider(group='open')"
   ]
  },
  {
   "cell_type": "code",
   "execution_count": 31,
   "metadata": {},
   "outputs": [
    {
     "name": "stdout",
     "output_type": "stream",
     "text": [
      " NAME : ibmq_qasm_simulator\n",
      " STATUS:\n",
      "    backend_name    = ibmq_qasm_simulator\n",
      "    backend_version = 0.1.547\n",
      "    status_msg      = active\n",
      "    pending_jobs    = 0\n",
      "    operational     = True\n",
      " NAME : ibmqx2\n",
      " STATUS:\n",
      "    backend_name    = ibmqx2\n",
      "    backend_version = 2.0.2\n",
      "    status_msg      = active\n",
      "    pending_jobs    = 9\n",
      "    operational     = True\n",
      " NAME : ibmq_16_melbourne\n",
      " STATUS:\n",
      "    backend_name    = ibmq_16_melbourne\n",
      "    backend_version = 2.0.1\n",
      "    status_msg      = active\n",
      "    pending_jobs    = 0\n",
      "    operational     = True\n",
      " NAME : ibmq_vigo\n",
      " STATUS:\n",
      "    backend_name    = ibmq_vigo\n",
      "    backend_version = 1.0.2\n",
      "    status_msg      = active\n",
      "    pending_jobs    = 40\n",
      "    operational     = True\n",
      " NAME : ibmq_ourense\n",
      " STATUS:\n",
      "    backend_name    = ibmq_ourense\n",
      "    backend_version = 1.0.1\n",
      "    status_msg      = active\n",
      "    pending_jobs    = 16\n",
      "    operational     = True\n",
      " NAME : ibmq_london\n",
      " STATUS:\n",
      "    backend_name    = ibmq_london\n",
      "    backend_version = 1.0.0\n",
      "    status_msg      = active\n",
      "    pending_jobs    = 23\n",
      "    operational     = True\n",
      " NAME : ibmq_burlington\n",
      " STATUS:\n",
      "    backend_name    = ibmq_burlington\n",
      "    backend_version = 1.1.4\n",
      "    status_msg      = active\n",
      "    pending_jobs    = 1\n",
      "    operational     = True\n",
      " NAME : ibmq_essex\n",
      " STATUS:\n",
      "    backend_name    = ibmq_essex\n",
      "    backend_version = 1.0.1\n",
      "    status_msg      = active\n",
      "    pending_jobs    = 1\n",
      "    operational     = True\n",
      " NAME : ibmq_armonk\n",
      " STATUS:\n",
      "    backend_name    = ibmq_armonk\n",
      "    backend_version = 1.1.0\n",
      "    status_msg      = active\n",
      "    pending_jobs    = 0\n",
      "    operational     = True\n"
     ]
    }
   ],
   "source": [
    "from Q_Functions import Print_status\n",
    "\n",
    "Print_status()"
   ]
  },
  {
   "cell_type": "markdown",
   "metadata": {},
   "source": [
    "Choosing the least busy backend"
   ]
  },
  {
   "cell_type": "code",
   "execution_count": 32,
   "metadata": {},
   "outputs": [],
   "source": [
    "backend = provider.get_backend('ibmq_16_melbourne')"
   ]
  },
  {
   "cell_type": "markdown",
   "metadata": {},
   "source": [
    "Submiting the job for the IBM Q platform"
   ]
  },
  {
   "cell_type": "code",
   "execution_count": 34,
   "metadata": {},
   "outputs": [
    {
     "name": "stdout",
     "output_type": "stream",
     "text": [
      "Job Status: job has successfully run\n"
     ]
    }
   ],
   "source": [
    "from qiskit.tools.monitor import job_monitor\n",
    "\n",
    "job_exp = Qsk.execute(Q_Circuit, backend=backend)\n",
    "job_monitor(job_exp)"
   ]
  },
  {
   "cell_type": "code",
   "execution_count": 3,
   "metadata": {},
   "outputs": [
    {
     "ename": "NameError",
     "evalue": "name 'job_exp' is not defined",
     "output_type": "error",
     "traceback": [
      "\u001b[0;31m---------------------------------------------------------------------------\u001b[0m",
      "\u001b[0;31mNameError\u001b[0m                                 Traceback (most recent call last)",
      "\u001b[0;32m<ipython-input-3-11adfd997361>\u001b[0m in \u001b[0;36m<module>\u001b[0;34m\u001b[0m\n\u001b[0;32m----> 1\u001b[0;31m \u001b[0mresult_exp\u001b[0m \u001b[0;34m=\u001b[0m \u001b[0mjob_exp\u001b[0m\u001b[0;34m.\u001b[0m\u001b[0mresult\u001b[0m\u001b[0;34m(\u001b[0m\u001b[0;34m)\u001b[0m\u001b[0;34m\u001b[0m\u001b[0;34m\u001b[0m\u001b[0m\n\u001b[0m",
      "\u001b[0;31mNameError\u001b[0m: name 'job_exp' is not defined"
     ]
    }
   ],
   "source": [
    "result_exp = job_exp.result()"
   ]
  },
  {
   "cell_type": "code",
   "execution_count": null,
   "metadata": {},
   "outputs": [],
   "source": [
    "from qiskit.visualization import plot_histogram\n",
    "counts_exp = result_exp.get_counts(Q_Circuit)\n",
    "plot_histogram([counts_exp,counts], legend=['Device', 'Simulator'])"
   ]
  },
  {
   "cell_type": "markdown",
   "metadata": {},
   "source": []
  },
  {
   "cell_type": "code",
   "execution_count": null,
   "metadata": {},
   "outputs": [],
   "source": [
    "job_id = job_exp.job_id()\n",
    "\n",
    "print('JOB ID: {}'.format(job_id))"
   ]
  }
 ],
 "metadata": {
  "kernelspec": {
   "display_name": "qiskit",
   "language": "python",
   "name": "qiskit"
  },
  "language_info": {
   "codemirror_mode": {
    "name": "ipython",
    "version": 3
   },
   "file_extension": ".py",
   "mimetype": "text/x-python",
   "name": "python",
   "nbconvert_exporter": "python",
   "pygments_lexer": "ipython3",
   "version": "3.7.3"
  },
  "toc": {
   "base_numbering": 1,
   "nav_menu": {},
   "number_sections": true,
   "sideBar": true,
   "skip_h1_title": false,
   "title_cell": "Table of Contents",
   "title_sidebar": "Contents",
   "toc_cell": true,
   "toc_position": {},
   "toc_section_display": true,
   "toc_window_display": false
  }
 },
 "nbformat": 4,
 "nbformat_minor": 2
}
