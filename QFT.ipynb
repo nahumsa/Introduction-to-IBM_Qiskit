{
 "cells": [
  {
   "cell_type": "markdown",
   "metadata": {
    "toc": true
   },
   "source": [
    "<h1>Table of Contents<span class=\"tocSkip\"></span></h1>\n",
    "<div class=\"toc\"><ul class=\"toc-item\"><li><span><a href=\"#Quantum-Fourier-Transform-(QFT)\" data-toc-modified-id=\"Quantum-Fourier-Transform-(QFT)-1\"><span class=\"toc-item-num\">1&nbsp;&nbsp;</span>Quantum Fourier Transform (QFT)</a></span><ul class=\"toc-item\"><li><span><a href=\"#N-=-1\" data-toc-modified-id=\"N-=-1-1.1\"><span class=\"toc-item-num\">1.1&nbsp;&nbsp;</span>N = 1</a></span><ul class=\"toc-item\"><li><span><a href=\"#Circuit\" data-toc-modified-id=\"Circuit-1.1.1\"><span class=\"toc-item-num\">1.1.1&nbsp;&nbsp;</span>Circuit</a></span></li><li><span><a href=\"#Simulation\" data-toc-modified-id=\"Simulation-1.1.2\"><span class=\"toc-item-num\">1.1.2&nbsp;&nbsp;</span>Simulation</a></span></li></ul></li><li><span><a href=\"#N-=-2\" data-toc-modified-id=\"N-=-2-1.2\"><span class=\"toc-item-num\">1.2&nbsp;&nbsp;</span>N = 2</a></span><ul class=\"toc-item\"><li><span><a href=\"#Circuit\" data-toc-modified-id=\"Circuit-1.2.1\"><span class=\"toc-item-num\">1.2.1&nbsp;&nbsp;</span>Circuit</a></span></li><li><span><a href=\"#Simulation\" data-toc-modified-id=\"Simulation-1.2.2\"><span class=\"toc-item-num\">1.2.2&nbsp;&nbsp;</span>Simulation</a></span></li></ul></li><li><span><a href=\"#N-=-3\" data-toc-modified-id=\"N-=-3-1.3\"><span class=\"toc-item-num\">1.3&nbsp;&nbsp;</span>N = 3</a></span></li></ul></li></ul></div>"
   ]
  },
  {
   "cell_type": "markdown",
   "metadata": {},
   "source": [
    "# Quantum Fourier Transform (QFT) \n",
    "\n",
    "[Reference](https://community.qiskit.org/textbook/ch-algorithms/quantum-fourier-transform.html)\n",
    "\n",
    "Fourier transform is a very important tool to signal processing. \n",
    "\n",
    "Here we will build a quantum version of a discrete fourier transform, this will be used in many quantum algorithms."
   ]
  },
  {
   "cell_type": "markdown",
   "metadata": {},
   "source": [
    "Discrete fourier transform is the map between two strings $F: (x_0, x_1, \\dots, x_{N-1}) \\rightarrow ((y_0, y_1, \\dots, y_{N-1}))$.\n",
    "\n",
    "\\begin{equation}\n",
    "F(x_k) = y_k = \\frac{1}{\\sqrt N} \\sum_{l=0}^{N-1} x_l \\omega_N^{lk}\n",
    "\\end{equation}\n",
    "\n",
    "Where: $\\omega_N^{lk} =  exp\\left(2\\pi i \\frac{lk}{N}\\right)$"
   ]
  },
  {
   "cell_type": "markdown",
   "metadata": {},
   "source": [
    "Quantum Fourier transform does the same thing, but using quantum states: $F:\\sum_{i=0}^{N-1} x_i\\left| i \\right> \\rightarrow \\sum_{i=0}^{N-1} y_i\\left| i \\right> $\n",
    "\n",
    "\\begin{equation}\n",
    "F(x_k) = y_k = \\frac{1}{\\sqrt N} \\sum_{l=0}^{N-1} x_l \\omega_N^{lk}\n",
    "\\end{equation}\n",
    "\n",
    "Where: $\\omega_N^{lk} =  exp\\left(2\\pi i \\frac{lk}{N}\\right)$\n",
    "\n",
    "This can be represented by an unitary matrix:\n",
    "\\begin{equation}\n",
    "F = \\frac{1}{\\sqrt N} \\sum_{x=0}^{N-1}\\sum_{y=0}^{N-1} \\omega_N^{lk}  \\left| y \\right> \\left< x \\right|\n",
    "\\end{equation}\n",
    "\n"
   ]
  },
  {
   "cell_type": "markdown",
   "metadata": {},
   "source": [
    "To find the circuit representation of the fourier transform we need to see how it works on $2^N$ qubits first:\n",
    "\n",
    "\\begin{equation}\n",
    "\\begin{split}\n",
    "F\\left(\\left| x \\right>\\right) & = \\frac{1}{\\sqrt N} \\sum_{y=0}^{N-1} \\omega_N^{xy} \\left| y \\right> \\\\\n",
    "  & = D\n",
    "\\end{split}\n",
    "\\end{equation}"
   ]
  },
  {
   "cell_type": "code",
   "execution_count": 2,
   "metadata": {},
   "outputs": [],
   "source": [
    "%matplotlib inline\n",
    "import qiskit as Qsk\n",
    "import numpy as np\n",
    "import matplotlib.pyplot as plt"
   ]
  },
  {
   "cell_type": "markdown",
   "metadata": {},
   "source": [
    "## N = 1"
   ]
  },
  {
   "cell_type": "markdown",
   "metadata": {},
   "source": [
    "### Circuit"
   ]
  },
  {
   "cell_type": "code",
   "execution_count": 83,
   "metadata": {},
   "outputs": [],
   "source": [
    "Q_Circuit = Qsk.QuantumCircuit(1)"
   ]
  },
  {
   "cell_type": "code",
   "execution_count": 84,
   "metadata": {},
   "outputs": [],
   "source": [
    "Q_Circuit.h(0);"
   ]
  },
  {
   "cell_type": "code",
   "execution_count": 85,
   "metadata": {},
   "outputs": [
    {
     "data": {
      "image/png": "[encoded data removed]",
      "text/plain": [
       "<Figure size 293.776x144.48 with 1 Axes>"
      ]
     },
     "execution_count": 85,
     "metadata": {},
     "output_type": "execute_result"
    }
   ],
   "source": [
    "circ_meas = Qsk.QuantumCircuit(1, 1)\n",
    "circ_meas.barrier(range(1))\n",
    "circ_meas.measure(qubit=0,cbit=0)\n",
    "final_circ = Q_Circuit + circ_meas\n",
    "final_circ.draw(output='mpl')"
   ]
  },
  {
   "cell_type": "markdown",
   "metadata": {},
   "source": [
    "### Simulation"
   ]
  },
  {
   "cell_type": "code",
   "execution_count": 86,
   "metadata": {},
   "outputs": [
    {
     "name": "stdout",
     "output_type": "stream",
     "text": [
      "{'0': 529, '1': 495}\n"
     ]
    }
   ],
   "source": [
    "backend_sim = Qsk.Aer.get_backend('qasm_simulator')\n",
    "job_sim = Qsk.execute(final_circ, backend_sim, shots=1024)\n",
    "result_sim = job_sim.result()\n",
    "counts = result_sim.get_counts(final_circ)\n",
    "print(counts)"
   ]
  },
  {
   "cell_type": "code",
   "execution_count": 87,
   "metadata": {},
   "outputs": [
    {
     "data": {
      "image/png": "[encoded data removed]",
      "text/plain": [
       "<Figure size 504x360 with 1 Axes>"
      ]
     },
     "execution_count": 87,
     "metadata": {},
     "output_type": "execute_result"
    }
   ],
   "source": [
    "from qiskit.visualization import plot_histogram\n",
    "plot_histogram(counts)"
   ]
  },
  {
   "cell_type": "markdown",
   "metadata": {},
   "source": [
    "## N = 2"
   ]
  },
  {
   "cell_type": "markdown",
   "metadata": {},
   "source": [
    "### Circuit"
   ]
  },
  {
   "cell_type": "code",
   "execution_count": 99,
   "metadata": {},
   "outputs": [],
   "source": [
    "Q_Circuit = Qsk.QuantumCircuit(2)"
   ]
  },
  {
   "cell_type": "code",
   "execution_count": 100,
   "metadata": {},
   "outputs": [],
   "source": [
    "Q_Circuit.h(0);\n",
    "Q_Circuit.cu1(np.pi,1,0);\n",
    "Q_Circuit.barrier()\n",
    "Q_Circuit.h(1);"
   ]
  },
  {
   "cell_type": "code",
   "execution_count": 101,
   "metadata": {
    "scrolled": false
   },
   "outputs": [
    {
     "data": {
      "image/png": "[encoded data removed]",
      "text/plain": [
       "<Figure size 577.92x204.68 with 1 Axes>"
      ]
     },
     "execution_count": 101,
     "metadata": {},
     "output_type": "execute_result"
    }
   ],
   "source": [
    "circ_meas = Qsk.QuantumCircuit(2, 2)\n",
    "circ_meas.barrier();\n",
    "circ_meas.measure(range(2),range(2));\n",
    "final_circ = Q_Circuit + circ_meas\n",
    "final_circ.draw(output='mpl')"
   ]
  },
  {
   "cell_type": "markdown",
   "metadata": {},
   "source": [
    "### Simulation"
   ]
  },
  {
   "cell_type": "code",
   "execution_count": 91,
   "metadata": {},
   "outputs": [
    {
     "name": "stdout",
     "output_type": "stream",
     "text": [
      "{'00': 258, '01': 284, '10': 247, '11': 235}\n"
     ]
    }
   ],
   "source": [
    "backend_sim = Qsk.Aer.get_backend('qasm_simulator')\n",
    "job_sim = Qsk.execute(final_circ, backend_sim, shots=1024)\n",
    "result_sim = job_sim.result()\n",
    "counts = result_sim.get_counts(final_circ)\n",
    "print(counts)"
   ]
  },
  {
   "cell_type": "code",
   "execution_count": 92,
   "metadata": {},
   "outputs": [
    {
     "data": {
      "image/png": "[encoded data removed]",
      "text/plain": [
       "<Figure size 504x360 with 1 Axes>"
      ]
     },
     "execution_count": 92,
     "metadata": {},
     "output_type": "execute_result"
    }
   ],
   "source": [
    "from qiskit.visualization import plot_histogram\n",
    "plot_histogram(counts)"
   ]
  },
  {
   "cell_type": "markdown",
   "metadata": {},
   "source": [
    "## N = 3"
   ]
  },
  {
   "cell_type": "code",
   "execution_count": null,
   "metadata": {},
   "outputs": [],
   "source": [
    "n = 3\n",
    "for i in range(n):\n",
    "        Q_Circuit.h(i)\n",
    "        for j in range(i+1,n):\n",
    "            Q_Circuit.cu1(np.pi/float(2**(j-i)), j, i)\n",
    "        Q_Circuit.barrier()"
   ]
  },
  {
   "cell_type": "code",
   "execution_count": null,
   "metadata": {},
   "outputs": [],
   "source": []
  },
  {
   "cell_type": "code",
   "execution_count": null,
   "metadata": {},
   "outputs": [],
   "source": []
  },
  {
   "cell_type": "code",
   "execution_count": 1,
   "metadata": {},
   "outputs": [
    {
     "data": {
      "text/html": [
       "<h3>Version Information</h3><table><tr><th>Qiskit Software</th><th>Version</th></tr><tr><td>Qiskit</td><td>0.13.0</td></tr><tr><td>Terra</td><td>0.10.0</td></tr><tr><td>Aer</td><td>0.3.2</td></tr><tr><td>Ignis</td><td>0.2.0</td></tr><tr><td>Aqua</td><td>0.6.1</td></tr><tr><td>IBM Q Provider</td><td>0.3.3</td></tr><tr><th>System information</th></tr><tr><td>Python</td><td>3.7.3 | packaged by conda-forge | (default, Jul  1 2019, 21:52:21) \n",
       "[GCC 7.3.0]</td></tr><tr><td>OS</td><td>Linux</td></tr><tr><td>CPUs</td><td>2</td></tr><tr><td>Memory (Gb)</td><td>7.6761474609375</td></tr><tr><td colspan='2'>Sun Nov 17 22:06:16 2019 -03</td></tr></table>"
      ],
      "text/plain": [
       "<IPython.core.display.HTML object>"
      ]
     },
     "metadata": {},
     "output_type": "display_data"
    }
   ],
   "source": [
    "import qiskit.tools.jupyter\n",
    "%qiskit_version_table"
   ]
  }
 ],
 "metadata": {
  "kernelspec": {
   "display_name": "qiskit",
   "language": "python",
   "name": "qiskit"
  },
  "language_info": {
   "codemirror_mode": {
    "name": "ipython",
    "version": 3
   },
   "file_extension": ".py",
   "mimetype": "text/x-python",
   "name": "python",
   "nbconvert_exporter": "python",
   "pygments_lexer": "ipython3",
   "version": "3.7.3"
  },
  "toc": {
   "base_numbering": 1,
   "nav_menu": {},
   "number_sections": true,
   "sideBar": true,
   "skip_h1_title": false,
   "title_cell": "Table of Contents",
   "title_sidebar": "Contents",
   "toc_cell": true,
   "toc_position": {},
   "toc_section_display": true,
   "toc_window_display": false
  }
 },
 "nbformat": 4,
 "nbformat_minor": 2
}
