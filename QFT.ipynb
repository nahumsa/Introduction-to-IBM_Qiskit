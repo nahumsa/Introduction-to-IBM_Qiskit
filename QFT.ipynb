{
 "cells": [
  {
   "cell_type": "markdown",
   "metadata": {
    "toc": true
   },
   "source": [
    "<h1>Table of Contents<span class=\"tocSkip\"></span></h1>\n",
    "<div class=\"toc\"><ul class=\"toc-item\"><li><span><a href=\"#Quantum-Fourier-Transform-(QFT)\" data-toc-modified-id=\"Quantum-Fourier-Transform-(QFT)-1\"><span class=\"toc-item-num\">1&nbsp;&nbsp;</span>Quantum Fourier Transform (QFT)</a></span><ul class=\"toc-item\"><li><span><a href=\"#N-=-1\" data-toc-modified-id=\"N-=-1-1.1\"><span class=\"toc-item-num\">1.1&nbsp;&nbsp;</span>N = 1</a></span><ul class=\"toc-item\"><li><span><a href=\"#Circuit\" data-toc-modified-id=\"Circuit-1.1.1\"><span class=\"toc-item-num\">1.1.1&nbsp;&nbsp;</span>Circuit</a></span></li><li><span><a href=\"#Simulation\" data-toc-modified-id=\"Simulation-1.1.2\"><span class=\"toc-item-num\">1.1.2&nbsp;&nbsp;</span>Simulation</a></span></li></ul></li><li><span><a href=\"#N-=-2\" data-toc-modified-id=\"N-=-2-1.2\"><span class=\"toc-item-num\">1.2&nbsp;&nbsp;</span>N = 2</a></span><ul class=\"toc-item\"><li><span><a href=\"#Circuit\" data-toc-modified-id=\"Circuit-1.2.1\"><span class=\"toc-item-num\">1.2.1&nbsp;&nbsp;</span>Circuit</a></span></li><li><span><a href=\"#Simulation\" data-toc-modified-id=\"Simulation-1.2.2\"><span class=\"toc-item-num\">1.2.2&nbsp;&nbsp;</span>Simulation</a></span></li></ul></li><li><span><a href=\"#N-=-3\" data-toc-modified-id=\"N-=-3-1.3\"><span class=\"toc-item-num\">1.3&nbsp;&nbsp;</span>N = 3</a></span><ul class=\"toc-item\"><li><span><a href=\"#Circuit\" data-toc-modified-id=\"Circuit-1.3.1\"><span class=\"toc-item-num\">1.3.1&nbsp;&nbsp;</span>Circuit</a></span></li><li><span><a href=\"#Simulation\" data-toc-modified-id=\"Simulation-1.3.2\"><span class=\"toc-item-num\">1.3.2&nbsp;&nbsp;</span>Simulation</a></span></li></ul></li><li><span><a href=\"#Generalization-for-any-N\" data-toc-modified-id=\"Generalization-for-any-N-1.4\"><span class=\"toc-item-num\">1.4&nbsp;&nbsp;</span>Generalization for any N</a></span></li><li><span><a href=\"#N-=-4\" data-toc-modified-id=\"N-=-4-1.5\"><span class=\"toc-item-num\">1.5&nbsp;&nbsp;</span>N = 4</a></span><ul class=\"toc-item\"><li><span><a href=\"#Circuit\" data-toc-modified-id=\"Circuit-1.5.1\"><span class=\"toc-item-num\">1.5.1&nbsp;&nbsp;</span>Circuit</a></span></li><li><span><a href=\"#Simulation\" data-toc-modified-id=\"Simulation-1.5.2\"><span class=\"toc-item-num\">1.5.2&nbsp;&nbsp;</span>Simulation</a></span></li></ul></li></ul></li></ul></div>"
   ]
  },
  {
   "cell_type": "markdown",
   "metadata": {},
   "source": [
    "# Quantum Fourier Transform (QFT) \n",
    "\n",
    "[Reference](https://community.qiskit.org/textbook/ch-algorithms/quantum-fourier-transform.html)\n",
    "\n",
    "Fourier transform is a very important tool to signal processing. \n",
    "\n",
    "Here we will build a quantum version of a discrete fourier transform, this will be used in many quantum algorithms."
   ]
  },
  {
   "cell_type": "markdown",
   "metadata": {},
   "source": [
    "Discrete fourier transform is the map between two strings $F: (x_0, x_1, \\dots, x_{N-1}) \\rightarrow ((y_0, y_1, \\dots, y_{N-1}))$.\n",
    "\n",
    "\\begin{equation}\n",
    "F(x_k) = y_k = \\frac{1}{\\sqrt N} \\sum_{l=0}^{N-1} x_l \\omega_N^{lk}\n",
    "\\end{equation}\n",
    "\n",
    "Where: $\\omega_N^{lk} =  exp\\left(2\\pi i \\frac{lk}{N}\\right)$"
   ]
  },
  {
   "cell_type": "markdown",
   "metadata": {},
   "source": [
    "Quantum Fourier transform does the same thing, but using quantum states: $F:\\sum_{i=0}^{N-1} x_i\\left| i \\right> \\rightarrow \\sum_{i=0}^{N-1} y_i\\left| i \\right> $\n",
    "\n",
    "\\begin{equation}\n",
    "F(x_k) = y_k = \\frac{1}{\\sqrt N} \\sum_{l=0}^{N-1} x_l \\omega_N^{lk}\n",
    "\\end{equation}\n",
    "\n",
    "Where: $\\omega_N^{lk} =  exp\\left(2\\pi i \\frac{lk}{N}\\right)$\n",
    "\n",
    "This can be represented by an unitary matrix:\n",
    "\\begin{equation}\n",
    "F = \\frac{1}{\\sqrt N} \\sum_{x=0}^{N-1}\\sum_{y=0}^{N-1} \\omega_N^{lk}  \\left| y \\right> \\left< x \\right|\n",
    "\\end{equation}\n",
    "\n"
   ]
  },
  {
   "cell_type": "markdown",
   "metadata": {},
   "source": [
    "To find the circuit representation of the Fourier transform we need to see how it works on $2^N$ qubits first:\n",
    "\n",
    "\\begin{equation}\n",
    "\\begin{split}\n",
    "F\\left(\\left| m \\right> _n\\right) & = \\frac{1}{\\sqrt N} \\sum_{k=0}^{N-1} \\omega_N^{km} \\left| k \\right>_n \\\\\n",
    "  & =  \\frac{1}{\\sqrt N} \\sum_{k=0}^{N-1} exp\\left( i \\frac{2\\pi}{N} mk \\right) \\left| k \\right>_n  \\\\\n",
    "  & =  \\frac{1}{\\sqrt N} \\sum_{k_{n-1}=0}^{1} \\dots \\sum_{k_{0}=0}^{1} exp\\left( i \\frac{2\\pi}{N} m \\sum_{l=1}^n \\frac{k_{n-l}}{2^l} \\right) \\left| k_{n-1} \\dots k_0 \\right>_n  \\\\\n",
    "  & =  \\frac{1}{\\sqrt N} \\sum_{k_{n-1}=0}^{1} \\dots \\sum_{k_{0}=0}^{1} \\bigotimes_{l=1}^n exp\\left( i \\frac{2\\pi}{N} m  \\frac{k_{n-l}}{2^l} \\right) \\left| k_{n-l}\\right>_n \\\\ \n",
    "  & =  \\frac{1}{\\sqrt N} \\bigotimes_{l=1}^n \\left[ \\left| 0 \\right> + exp\\left( i \\frac{2\\pi m}{2^l} \\right) \\left| 1\\right> \\right]\n",
    "\\end{split}\n",
    "\\end{equation}\n",
    "Now we use the binary representation of $\\frac{m}{2^l}$: \n",
    "\\begin{equation}\n",
    "\\begin{split}\n",
    "\\frac{m}{2^l} & = \\sum_{p=1}^n m_{n-p} 2^{n-p-l}  = m_{n-1} 2^{n-1-l} + \\dots + m_l 2^0 + \\dots + m_0 2^{-l} & \\equiv m_{n-1} \\dots m_l . m_{l-1} \\dots m_0 \\\\\n",
    " & = \\sum_{p=1}^{n-l} m_{n-p} 2^{n-p-l} + \\sum_{p=1}^{l} \\frac{m_{l-p}}{2^l}  &\n",
    "\\end{split}\n",
    "\\end{equation}\n",
    "Therefore:\n",
    "\\begin{equation}\n",
    "\texp\\left[ i \\frac{2 \\pi m}{2^l} \\right] = exp\\left[ i 2 \\pi \\sum_{p=1}^{n-l} m_{n-p} 2^{n-p-l} \\right] exp\\left[i 2 \\pi  \\sum_{p=1}^{l} \\frac{m_{l-p}}{2^l} \\right] = exp\\left[i 2 \\pi  \\sum_{p=1}^{l} \\frac{m_{l-p}}{2^l} \\right]\n",
    "\\end{equation}\n",
    "Now, we have that:\n",
    "\\begin{equation}\n",
    "F(\\left| m\\right>_n) = \\frac{1}{\\sqrt{N}} \\bigotimes_{l=1}^n \\left[ \\left| 0 \\right> +exp\\left[i 2 \\pi  \\sum_{p=1}^{l} \\frac{m_{l-p}}{2^l} \\right] \\left| 1\\right> \\right]\n",
    "\\end{equation}"
   ]
  },
  {
   "cell_type": "markdown",
   "metadata": {},
   "source": [
    "Consider first acting on 2 qubits(n=2):\n",
    "\n",
    "\\begin{equation}\n",
    "\\begin{split}\n",
    "F(\\left| m\\right>_n) & =  \\frac{1}{\\sqrt{4}} \\bigotimes_{l=1}^2 \\left[ \\left| 0 \\right> +exp\\left[i 2 \\pi  \\sum_{p=1}^{l} \\frac{m_{l-p}}{2^l} \\right] \\left| 1\\right> \\right] \\\\\n",
    " & = \\frac{1}{2} \\left[ \\left| 0 \\right> +exp\\left[i 2 \\pi  0.m_0 \\right] \\left| 1\\right>\\right] \\otimes \\left[ \\left| 0 \\right> +exp\\left[i 2 \\pi  0.m_1m_0 \\right] \\left| 1\\right>\\right]\n",
    "\\end{split}\n",
    "\\end{equation}\n",
    "\n",
    "Consider the following gate:\n",
    "\n",
    "\\begin{equation}\n",
    "\\begin{split}\n",
    "R_k^{(0,1)} \\left| m \\right> \\left| 0 \\right> & =  & \\left| 0 \\right> \\\\\n",
    "R_k^{(0,1)} \\left| m \\right> \\left| 1 \\right> & = & exp \\left[ i 2 \\pi \\frac{m}{2^k} \\right]   \\left| 1 \\right> \n",
    "\\end{split}\n",
    "\\end{equation}\n",
    "\n",
    "We can write the QFT as: \n",
    "\n",
    "\\begin{equation}\n",
    "F = SWAP[H^{(0)} R_2^{(0,1)} H^{(1)} \\left| m \\right>_2]\n",
    "\\end{equation}\n",
    "\n",
    "Where the SWAP gate changes the order of the qubits. "
   ]
  },
  {
   "cell_type": "markdown",
   "metadata": {},
   "source": [
    "This can be easily generalized for N qubits as we can see below."
   ]
  },
  {
   "cell_type": "code",
   "execution_count": 1,
   "metadata": {},
   "outputs": [],
   "source": [
    "%matplotlib inline\n",
    "import qiskit as Qsk\n",
    "import numpy as np\n",
    "import matplotlib.pyplot as plt"
   ]
  },
  {
   "cell_type": "markdown",
   "metadata": {},
   "source": [
    "## N = 1"
   ]
  },
  {
   "cell_type": "markdown",
   "metadata": {},
   "source": [
    "### Circuit"
   ]
  },
  {
   "cell_type": "code",
   "execution_count": 2,
   "metadata": {},
   "outputs": [],
   "source": [
    "Q_Circuit = Qsk.QuantumCircuit(1)"
   ]
  },
  {
   "cell_type": "code",
   "execution_count": 3,
   "metadata": {},
   "outputs": [],
   "source": [
    "Q_Circuit.h(0);"
   ]
  },
  {
   "cell_type": "code",
   "execution_count": 4,
   "metadata": {},
   "outputs": [
    {
     "data": {
      "image/png": "[encoded data removed]",
      "text/plain": [
       "<Figure size 293.776x144.48 with 1 Axes>"
      ]
     },
     "execution_count": 4,
     "metadata": {},
     "output_type": "execute_result"
    }
   ],
   "source": [
    "circ_meas = Qsk.QuantumCircuit(1, 1)\n",
    "circ_meas.barrier(range(1))\n",
    "circ_meas.measure(qubit=0,cbit=0)\n",
    "final_circ = Q_Circuit + circ_meas\n",
    "final_circ.draw(output='mpl')"
   ]
  },
  {
   "cell_type": "markdown",
   "metadata": {},
   "source": [
    "### Simulation"
   ]
  },
  {
   "cell_type": "code",
   "execution_count": 5,
   "metadata": {},
   "outputs": [
    {
     "name": "stdout",
     "output_type": "stream",
     "text": [
      "{'1': 508, '0': 516}\n"
     ]
    }
   ],
   "source": [
    "backend_sim = Qsk.Aer.get_backend('qasm_simulator')\n",
    "job_sim = Qsk.execute(final_circ, backend_sim, shots=1024)\n",
    "result_sim = job_sim.result()\n",
    "counts = result_sim.get_counts(final_circ)\n",
    "print(counts)"
   ]
  },
  {
   "cell_type": "code",
   "execution_count": 6,
   "metadata": {},
   "outputs": [
    {
     "data": {
      "image/png": "[encoded data removed]",
      "text/plain": [
       "<Figure size 504x360 with 1 Axes>"
      ]
     },
     "execution_count": 6,
     "metadata": {},
     "output_type": "execute_result"
    }
   ],
   "source": [
    "from qiskit.visualization import plot_histogram\n",
    "plot_histogram(counts)"
   ]
  },
  {
   "cell_type": "markdown",
   "metadata": {},
   "source": [
    "## N = 2"
   ]
  },
  {
   "cell_type": "markdown",
   "metadata": {},
   "source": [
    "### Circuit"
   ]
  },
  {
   "cell_type": "code",
   "execution_count": 17,
   "metadata": {},
   "outputs": [],
   "source": [
    "Q_Circuit = Qsk.QuantumCircuit(2)"
   ]
  },
  {
   "cell_type": "code",
   "execution_count": 18,
   "metadata": {},
   "outputs": [],
   "source": [
    "Q_Circuit.h(1);\n",
    "Q_Circuit.cu1(np.pi,0,1);\n",
    "Q_Circuit.barrier()\n",
    "Q_Circuit.h(0);\n",
    "Q_Circuit.barrier();\n",
    "Q_Circuit.swap(0,1);"
   ]
  },
  {
   "cell_type": "code",
   "execution_count": 19,
   "metadata": {
    "scrolled": false
   },
   "outputs": [
    {
     "data": {
      "image/png": "[encoded data removed]",
      "text/plain": [
       "<Figure size 698.32x204.68 with 1 Axes>"
      ]
     },
     "execution_count": 19,
     "metadata": {},
     "output_type": "execute_result"
    }
   ],
   "source": [
    "circ_meas = Qsk.QuantumCircuit(2, 2)\n",
    "circ_meas.barrier();\n",
    "circ_meas.measure(range(2),range(2));\n",
    "final_circ = Q_Circuit + circ_meas\n",
    "final_circ.draw(output='mpl')"
   ]
  },
  {
   "cell_type": "markdown",
   "metadata": {},
   "source": [
    "### Simulation"
   ]
  },
  {
   "cell_type": "code",
   "execution_count": 20,
   "metadata": {},
   "outputs": [
    {
     "name": "stdout",
     "output_type": "stream",
     "text": [
      "{'11': 247, '01': 281, '10': 254, '00': 242}\n"
     ]
    }
   ],
   "source": [
    "backend_sim = Qsk.Aer.get_backend('qasm_simulator')\n",
    "job_sim = Qsk.execute(final_circ, backend_sim, shots=1024)\n",
    "result_sim = job_sim.result()\n",
    "counts = result_sim.get_counts(final_circ)\n",
    "print(counts)"
   ]
  },
  {
   "cell_type": "code",
   "execution_count": 21,
   "metadata": {},
   "outputs": [
    {
     "data": {
      "image/png": "[encoded data removed]",
      "text/plain": [
       "<Figure size 504x360 with 1 Axes>"
      ]
     },
     "execution_count": 21,
     "metadata": {},
     "output_type": "execute_result"
    }
   ],
   "source": [
    "from qiskit.visualization import plot_histogram\n",
    "plot_histogram(counts)"
   ]
  },
  {
   "cell_type": "markdown",
   "metadata": {},
   "source": [
    "## N = 3"
   ]
  },
  {
   "cell_type": "markdown",
   "metadata": {},
   "source": [
    "### Circuit"
   ]
  },
  {
   "cell_type": "code",
   "execution_count": 34,
   "metadata": {},
   "outputs": [],
   "source": [
    "def Rk(QC, Q_CONTROL, Q_TARGET, k, a):\n",
    "    QC.cu1( a*2.0*np.pi/2.0**k, Q_CONTROL, Q_TARGET);"
   ]
  },
  {
   "cell_type": "code",
   "execution_count": 35,
   "metadata": {},
   "outputs": [],
   "source": [
    "n = 3\n",
    "Q_Circuit = Qsk.QuantumCircuit(n)\n",
    "\n",
    "for i in range(n):\n",
    "    m = n - 1 - i;\n",
    "    Q_Circuit.h(m);\n",
    "    for j in range(m, 0, -1):\n",
    "        k = 2 + m - j;\n",
    "        Rk(Q_Circuit, j-1, m, k, 1.0);\n",
    "    Q_Circuit.barrier();"
   ]
  },
  {
   "cell_type": "code",
   "execution_count": 36,
   "metadata": {
    "scrolled": true
   },
   "outputs": [
    {
     "data": {
      "image/png": "[encoded data removed]",
      "text/plain": [
       "<Figure size 939.12x264.88 with 1 Axes>"
      ]
     },
     "execution_count": 36,
     "metadata": {},
     "output_type": "execute_result"
    }
   ],
   "source": [
    "circ_meas = Qsk.QuantumCircuit(n, n)\n",
    "circ_meas.barrier();\n",
    "circ_meas.measure(range(n),range(n));\n",
    "final_circ = Q_Circuit + circ_meas\n",
    "final_circ.draw(output='mpl')"
   ]
  },
  {
   "cell_type": "markdown",
   "metadata": {},
   "source": [
    "### Simulation"
   ]
  },
  {
   "cell_type": "code",
   "execution_count": 108,
   "metadata": {},
   "outputs": [
    {
     "name": "stdout",
     "output_type": "stream",
     "text": [
      "{'001': 114, '011': 133, '010': 133, '000': 139, '110': 124, '101': 133, '111': 127, '100': 121}\n"
     ]
    }
   ],
   "source": [
    "backend_sim = Qsk.Aer.get_backend('qasm_simulator')\n",
    "job_sim = Qsk.execute(final_circ, backend_sim, shots=1024)\n",
    "result_sim = job_sim.result()\n",
    "counts = result_sim.get_counts(final_circ)\n",
    "print(counts)"
   ]
  },
  {
   "cell_type": "code",
   "execution_count": 109,
   "metadata": {
    "scrolled": false
   },
   "outputs": [
    {
     "data": {
      "image/png": "[encoded data removed]",
      "text/plain": [
       "<Figure size 504x360 with 1 Axes>"
      ]
     },
     "execution_count": 109,
     "metadata": {},
     "output_type": "execute_result"
    }
   ],
   "source": [
    "from qiskit.visualization import plot_histogram\n",
    "plot_histogram(counts)"
   ]
  },
  {
   "cell_type": "markdown",
   "metadata": {},
   "source": [
    "## Generalization for any N"
   ]
  },
  {
   "cell_type": "code",
   "execution_count": 105,
   "metadata": {},
   "outputs": [],
   "source": [
    "def qft(Q_R, Q,n):\n",
    "    \"\"\" Method for the Quantum Fourier Transform.\n",
    "    \n",
    "    Parameters\n",
    "    ---------------------------------------------\n",
    "    Q(QuantumCircuit): Quantum Circuit with N qubits.\n",
    "    Q_R(QuantumRegister): Quantum Register belonging to Q.\n",
    "    n(Int): Number of Qubits.\n",
    "    \n",
    "    \"\"\"\n",
    "    def Rk(QC, Q_CONTROL, Q_TARGET, k, a):\n",
    "        QC.cu1( a*2.0*np.pi/2.0**k, Q_CONTROL, Q_TARGET);\n",
    "        \n",
    "    for i in range(0, n):\n",
    "        m = n - 1 - i;\n",
    "        Q.h(Q_R[m]);\n",
    "        for j in range(m, 0, -1):\n",
    "            k = 2 + m - j;\n",
    "            Rk(Q, Q_R[j-1], Q_R[m], k, 1.0);\n",
    "        Q.barrier();\n",
    "    j = 0;\n",
    "    while ( int(n/2) > j ):\n",
    "        Q.swap( Q_R[j], Q_R[n-1 - j] );\n",
    "        j = j + 1;\n",
    "    Q.barrier();\n",
    "\n",
    "        \n",
    "def Clas_Measur_Circuit(Q_R,C_R,Q,N):\n",
    "    \"\"\" Method for creating the measurements for\n",
    "    all qubits.\n",
    "    \n",
    "    Parameters\n",
    "    ---------------------------------------------\n",
    "    Q(QuantumCircuit): Quantum Circuit with N \n",
    "                       qubits.\n",
    "    Q_R(QuantumRegister): Quantum Register \n",
    "                            belonging to Q.\n",
    "    C_R(QuantumRegister): Classical Register \n",
    "                            belonging to Q.\n",
    "    N(Float): Number of Qubits.\n",
    "    \n",
    "    \"\"\"\n",
    "    \n",
    "    Q.barrier();\n",
    "    Q.measure(Q_R,C_R);\n",
    "    "
   ]
  },
  {
   "cell_type": "markdown",
   "metadata": {},
   "source": [
    "## N = 4"
   ]
  },
  {
   "cell_type": "markdown",
   "metadata": {},
   "source": [
    "### Circuit"
   ]
  },
  {
   "cell_type": "code",
   "execution_count": 106,
   "metadata": {
    "scrolled": true
   },
   "outputs": [],
   "source": [
    "N = 4\n",
    "Q_Reg = Qsk.QuantumRegister(N)\n",
    "C_Reg = Qsk.ClassicalRegister(N)\n",
    "Q_Circuit = Qsk.QuantumCircuit(Q_Reg,C_Reg)\n",
    "qft(Q_Reg, Q_Circuit, N)\n",
    "Clas_Measur_Circuit(Q_Reg,C_Reg,Q_Circuit,N)"
   ]
  },
  {
   "cell_type": "code",
   "execution_count": 107,
   "metadata": {
    "scrolled": true
   },
   "outputs": [
    {
     "data": {
      "image/png": "[encoded data removed]",
      "text/plain": [
       "<Figure size 1502.59x325.08 with 1 Axes>"
      ]
     },
     "execution_count": 107,
     "metadata": {},
     "output_type": "execute_result"
    }
   ],
   "source": [
    "Q_Circuit.draw(output='mpl')"
   ]
  },
  {
   "cell_type": "markdown",
   "metadata": {},
   "source": [
    "### Simulation"
   ]
  },
  {
   "cell_type": "code",
   "execution_count": 99,
   "metadata": {},
   "outputs": [],
   "source": [
    "backend_sim = Qsk.Aer.get_backend('qasm_simulator')\n",
    "job_sim = Qsk.execute(Q_Circuit, backend_sim, shots=1024)\n",
    "result_sim = job_sim.result()\n",
    "counts = result_sim.get_counts(Q_Circuit)"
   ]
  },
  {
   "cell_type": "code",
   "execution_count": 100,
   "metadata": {},
   "outputs": [
    {
     "data": {
      "image/png": "[encoded data removed]",
      "text/plain": [
       "<Figure size 504x360 with 1 Axes>"
      ]
     },
     "execution_count": 100,
     "metadata": {},
     "output_type": "execute_result"
    }
   ],
   "source": [
    "from qiskit.visualization import plot_histogram\n",
    "plot_histogram(counts)"
   ]
  },
  {
   "cell_type": "markdown",
   "metadata": {},
   "source": [
    "----------------------------------------------------------------------------------------------------"
   ]
  },
  {
   "cell_type": "code",
   "execution_count": 110,
   "metadata": {},
   "outputs": [
    {
     "data": {
      "text/html": [
       "<h3>Version Information</h3><table><tr><th>Qiskit Software</th><th>Version</th></tr><tr><td>Qiskit</td><td>0.13.0</td></tr><tr><td>Terra</td><td>0.10.0</td></tr><tr><td>Aer</td><td>0.3.2</td></tr><tr><td>Ignis</td><td>0.2.0</td></tr><tr><td>Aqua</td><td>0.6.1</td></tr><tr><td>IBM Q Provider</td><td>0.3.3</td></tr><tr><th>System information</th></tr><tr><td>Python</td><td>3.7.3 | packaged by conda-forge | (default, Jul  1 2019, 21:52:21) \n",
       "[GCC 7.3.0]</td></tr><tr><td>OS</td><td>Linux</td></tr><tr><td>CPUs</td><td>2</td></tr><tr><td>Memory (Gb)</td><td>7.6761474609375</td></tr><tr><td colspan='2'>Sun Nov 17 23:26:01 2019 -03</td></tr></table>"
      ],
      "text/plain": [
       "<IPython.core.display.HTML object>"
      ]
     },
     "metadata": {},
     "output_type": "display_data"
    }
   ],
   "source": [
    "import qiskit.tools.jupyter\n",
    "%qiskit_version_table"
   ]
  },
  {
   "cell_type": "code",
   "execution_count": null,
   "metadata": {},
   "outputs": [],
   "source": []
  }
 ],
 "metadata": {
  "kernelspec": {
   "display_name": "qiskit",
   "language": "python",
   "name": "qiskit"
  },
  "language_info": {
   "codemirror_mode": {
    "name": "ipython",
    "version": 3
   },
   "file_extension": ".py",
   "mimetype": "text/x-python",
   "name": "python",
   "nbconvert_exporter": "python",
   "pygments_lexer": "ipython3",
   "version": "3.7.3"
  },
  "toc": {
   "base_numbering": 1,
   "nav_menu": {},
   "number_sections": true,
   "sideBar": true,
   "skip_h1_title": false,
   "title_cell": "Table of Contents",
   "title_sidebar": "Contents",
   "toc_cell": true,
   "toc_position": {},
   "toc_section_display": true,
   "toc_window_display": false
  }
 },
 "nbformat": 4,
 "nbformat_minor": 2
}
