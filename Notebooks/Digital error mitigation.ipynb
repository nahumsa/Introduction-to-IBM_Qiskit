{
 "cells": [
  {
   "cell_type": "markdown",
   "id": "438da9ca",
   "metadata": {},
   "source": [
    "# Digital zero noise extrapolation\n",
    "\n",
    "Zero noise extrapolation (ZNE) is a method introduced by K. Temme et al (2017) [1] and uses the error of the device in order to extrapolate a \"noiseless\" device. The issue for this approach is that it requires a pulse-level access to a quantum computer, which is not always possible for the user. In this work, they convert this approach systematically for a gate-level access. In this tutorial I will focus on the Gate Folding Method."
   ]
  },
  {
   "cell_type": "markdown",
   "id": "50871ff7",
   "metadata": {},
   "source": [
    "# Core Idea\n",
    "\n",
    "The level of the noise on the system is parametrized by a dimensionless scale factor, $\\alpha$. For $\\alpha = 0$ we do not have the presence of noise, while for $\\alpha = 1$ it is on the noise level of the real hardware. The scale factor could represent any re-scaling of a physical quantity which introduces noise.\n",
    "\n",
    "We need to measure an expectation value which can be scaled regarding the noise which we call $E(\\alpha)$ . By construction, $E(\\alpha=1)$ represents the expectation value for the hardware that we are running and $E(\\alpha=0)$ is the noiseless expectation value. The procedure is done in two steps:\n",
    "\n",
    "1. **Noise-Scaling:** Measure $E(\\alpha)$ for $m$ different values subjected to $\\alpha \\geq 1$.\n",
    "2. **Extrapolation:** Infer $E(0)$ from the data obtained in the previous step."
   ]
  },
  {
   "cell_type": "markdown",
   "id": "590dd478",
   "metadata": {},
   "source": [
    "# Gate Folding:\n",
    "We fold specific gates on the circuit such that it has the same effect to amplify noise. Let's consider $U = L_d \\dots L_1$ such that $L_i$ represents gates or layers in the circuit. If we apply folding for a unique layer $L_i$ we would have:\n",
    "\n",
    "$$U \\rightarrow L_d \\dots L_i (L_i^\\dagger L_i)^n \\dots L_i$$\n",
    "\n",
    "Thus, the depth of the circuit would scale $d \\rightarrow d(1+2n)$. We can also have a partial folding on this kind of setting. Let's define a subset, $S$, of indices from the set of all indices $\\{ 1, \\dots, d \\}$ such that $s = |S|$. We can consider the following gate folding method:\n",
    "\n",
    "$$ \\forall j \\in \\{ 1, 2, \\dots, d \\} \\hspace{10pt}, \\hspace{10pt} L_j = \\begin{cases}\n",
    "      L_j \\ (L_j^\\dagger L_j)^n, & \\text{if}\\ j \\not \\in S \\\\\n",
    "      L_j \\ (L_j^\\dagger L_j)^{n+1}, & \\text{if} j \\in S \\end{cases}$$\n",
    "\n",
    "There are three different method for creating the subset: from left, from right, and at random. We have the scaling on the number of gates just like unitary folding $d(2n +1) + 2s$. Thus, the scaling is the same $d \\rightarrow \\alpha d$, where:\n",
    "\n",
    "$$\\alpha = 1 + \\frac{2k}{d} \\hspace{10pt}, \\hspace{10pt} k=1, 2, 3, \\dots$$\n",
    "\n",
    "And we can have the same procedure as the circuit folding to determine $n$ and $s$.\n",
    "\n",
    "Or for every real $\\alpha$, one can apply the procedure:\n",
    "\n",
    "1. Determine the closest integer $k$ to the real quantity $d(\\alpha -1) / 2$.\n",
    "2. Perform the integer division of $k$ by $d$. The quotient corresponds to $n$ while the remainder to $s$.\n",
    "3. Apply $n$ integer folds and a final partial folding."
   ]
  },
  {
   "cell_type": "markdown",
   "id": "a0029d9a",
   "metadata": {},
   "source": [
    "# Example\n",
    "\n",
    "For this example, let's consider the noise model of a real device `ibmq_santiago`, and a simple circuit that the output should be $| 11 \\rangle$. We would like to do the gate folding of the `cx` gate, since it is the gate that generates more noise."
   ]
  },
  {
   "cell_type": "code",
   "execution_count": 14,
   "id": "3b530c42",
   "metadata": {},
   "outputs": [
    {
     "name": "stderr",
     "output_type": "stream",
     "text": [
      "ibmqfactory.load_account:WARNING:2021-05-31 17:24:40,953: Credentials are already in use. The existing account in the session will be replaced.\n"
     ]
    }
   ],
   "source": [
    "import scipy as sp\n",
    "import numpy as np\n",
    "import matplotlib.pyplot as plt\n",
    "import qiskit\n",
    "\n",
    "from qiskit import QuantumCircuit, transpile, Aer, IBMQ\n",
    "from qiskit.providers.aer.noise import NoiseModel\n",
    "from qiskit.utils import QuantumInstance\n",
    "\n",
    "# Loading your IBM Q account(s)\n",
    "provider = IBMQ.load_account()"
   ]
  },
  {
   "cell_type": "code",
   "execution_count": 23,
   "id": "8c4cc2e4",
   "metadata": {},
   "outputs": [],
   "source": [
    "def run_obs(qc, shots, backend_name='ibmq_santiago'):\n",
    "    \"\"\"Helper function to get the expected value of the\n",
    "       | 11 > state.\n",
    "    \"\"\"\n",
    "    \n",
    "    # Get device noise model\n",
    "    device = provider.get_backend(backend_name)\n",
    "    noise_model = NoiseModel.from_backend(device)\n",
    "    coupling_map = device.configuration().coupling_map\n",
    "    seed = 42\n",
    "\n",
    "    # Define the backend\n",
    "    backend = QuantumInstance(\n",
    "                            backend=Aer.get_backend(\"qasm_simulator\"),\n",
    "                            seed_transpiler=seed,\n",
    "                            optimization_level=1,\n",
    "                            noise_model=noise_model,\n",
    "                            shots=shots,\n",
    "                            )\n",
    "    qc = qc.copy()\n",
    "    qc.measure_all()\n",
    "    counts = backend.execute(qc).get_counts()\n",
    "    return counts['11']/shots"
   ]
  },
  {
   "cell_type": "code",
   "execution_count": 24,
   "id": "f66f1375",
   "metadata": {},
   "outputs": [
    {
     "data": {
      "image/png": "[encoded data removed]",
      "text/plain": [
       "<Figure size 206.852x144.48 with 1 Axes>"
      ]
     },
     "execution_count": 24,
     "metadata": {},
     "output_type": "execute_result"
    }
   ],
   "source": [
    "qc = QuantumCircuit(2)\n",
    "qc.x(0)\n",
    "qc.cx(0, 1)\n",
    "qc.draw('mpl')"
   ]
  },
  {
   "cell_type": "code",
   "execution_count": 25,
   "id": "39ff0a9b",
   "metadata": {},
   "outputs": [
    {
     "data": {
      "text/plain": [
       "0.955"
      ]
     },
     "execution_count": 25,
     "metadata": {},
     "output_type": "execute_result"
    }
   ],
   "source": [
    "run_obs(qc, 1000)"
   ]
  },
  {
   "cell_type": "markdown",
   "id": "23f1c43d",
   "metadata": {},
   "source": [
    "In order to fold the circuit in qiskit, we need to create an auxiliary circuit with the folded gates, for this I will base on another [tutorial](https://nahumsa.github.io/n-blog/2020-09-08-changing-circuits/) that I did where I showed how to change the gate on an existing circuit."
   ]
  },
  {
   "cell_type": "code",
   "execution_count": 48,
   "id": "a53a1a82",
   "metadata": {},
   "outputs": [],
   "source": [
    "def fold_cx(qc, alpha):\n",
    "    \"\"\" Fold the cx on the circuit given an alpha value.\n",
    "    \"\"\"\n",
    "    d = qc.depth()\n",
    "    k = np.ceil(d*(alpha - 1)/2)\n",
    "    n = k//d\n",
    "    s = k%d\n",
    "    \n",
    "    instructions = []\n",
    "    for instruction, qargs, cargs in qc:\n",
    "        if instruction.name == 'cx':\n",
    "            instruction = qiskit.circuit.library.CXGate()\n",
    "            barrier = qiskit.circuit.library.Barrier(len(qc))\n",
    "            \n",
    "            instructions.append((instruction, qargs, cargs))\n",
    "            instructions.append((barrier, qargs, cargs))\n",
    "            for _ in range(2*int(n + s)):\n",
    "                instructions.append((instruction, qargs, cargs))\n",
    "                instructions.append((barrier, qargs, cargs))\n",
    "                \n",
    "        \n",
    "        else:\n",
    "            instructions.append((instruction, qargs, cargs))\n",
    "    \n",
    "    folded_qc = qc.copy()\n",
    "    folded_qc.data = instructions\n",
    "    return folded_qc"
   ]
  },
  {
   "cell_type": "markdown",
   "id": "2f389c18",
   "metadata": {},
   "source": [
    "Let's collect the circuit given the alpha value."
   ]
  },
  {
   "cell_type": "code",
   "execution_count": 125,
   "id": "60591891",
   "metadata": {},
   "outputs": [],
   "source": [
    "alpha_list = [1, 2, 5, 7, 9, 11]\n",
    "folds = []\n",
    "for alpha in alpha_list:\n",
    "    folds.append(fold_cx(qc, alpha))"
   ]
  },
  {
   "cell_type": "code",
   "execution_count": 126,
   "id": "47825082",
   "metadata": {},
   "outputs": [],
   "source": [
    "expected_vals = []\n",
    "for i in range(len(alpha_list)):\n",
    "    expected_vals.append(run_obs(folds[i], shots=1000))"
   ]
  },
  {
   "cell_type": "code",
   "execution_count": 127,
   "id": "1f94f004",
   "metadata": {
    "scrolled": true
   },
   "outputs": [
    {
     "name": "stdout",
     "output_type": "stream",
     "text": [
      "Alphas: [1, 2, 5, 7, 9, 11]\n",
      "Expected values[0.961, 0.941, 0.911, 0.907, 0.87, 0.849]\n"
     ]
    }
   ],
   "source": [
    "print(f\"Alphas: {alpha_list}\\nExpected values{expected_vals}\")"
   ]
  },
  {
   "cell_type": "code",
   "execution_count": 128,
   "id": "b743915c",
   "metadata": {},
   "outputs": [
    {
     "data": {
      "image/png": "[encoded data removed]",
      "text/plain": [
       "<Figure size 432x288 with 1 Axes>"
      ]
     },
     "metadata": {
      "needs_background": "light"
     },
     "output_type": "display_data"
    }
   ],
   "source": [
    "plt.plot(alpha_list, expected_vals, 'o')\n",
    "plt.xlabel(r\"$\\alpha$\", size=14)\n",
    "plt.ylabel(r\"E($\\alpha$)\", size=14)\n",
    "plt.show()"
   ]
  },
  {
   "cell_type": "markdown",
   "id": "f8733e7d",
   "metadata": {},
   "source": [
    "## Extrapolate E(0)\n",
    "Now that we've colected all $\\alpha$ values and $E(\\alpha)$ values we can extrapolate the \"noiseless\" regime. For this case I will use linear extrapolation."
   ]
  },
  {
   "cell_type": "code",
   "execution_count": 129,
   "id": "5a46c488",
   "metadata": {},
   "outputs": [
    {
     "name": "stdout",
     "output_type": "stream",
     "text": [
      "Mitigated expectation value: 0.968\n",
      "Unmitigated expectation value: 0.961\n"
     ]
    }
   ],
   "source": [
    "def linear(x, a, b):\n",
    "    \"\"\"Linear fit\n",
    "    \"\"\"\n",
    "    return a*x + b\n",
    "\n",
    "y = expected_vals\n",
    "x = alpha_list\n",
    "x, y = np.array(x), np.array(y)\n",
    "\n",
    "popt, _ = sp.optimize.curve_fit(linear, x, y)\n",
    "print(\"Mitigated expectation value:\", np.round(popt[1],3))\n",
    "print(\"Unmitigated expectation value:\", expected_vals[0])"
   ]
  },
  {
   "cell_type": "code",
   "execution_count": 130,
   "id": "350a1e8a",
   "metadata": {},
   "outputs": [
    {
     "name": "stdout",
     "output_type": "stream",
     "text": [
      "Absolute error with mitigation: 0.032\n",
      "Absolute error without mitigation: 0.039\n"
     ]
    }
   ],
   "source": [
    "print(\"Absolute error with mitigation:\", np.round(np.abs(1 - popt[1]), 3))\n",
    "print(\"Absolute error without mitigation:\", np.round(np.abs(1 - expected_vals[0]), 3))"
   ]
  },
  {
   "cell_type": "code",
   "execution_count": 133,
   "id": "47a914a9",
   "metadata": {},
   "outputs": [
    {
     "data": {
      "image/png": "[encoded data removed]",
      "text/plain": [
       "<Figure size 432x288 with 1 Axes>"
      ]
     },
     "metadata": {
      "needs_background": "light"
     },
     "output_type": "display_data"
    }
   ],
   "source": [
    "plt.plot(alpha_list, expected_vals, 'o')\n",
    "plt.plot(0, popt[1], '*', label=\"mitigated\")\n",
    "plt.xlabel(r\"$\\alpha$\", size=14)\n",
    "plt.ylabel(r\"E($\\alpha$)\", size=14)\n",
    "plt.legend()\n",
    "plt.show()"
   ]
  },
  {
   "cell_type": "markdown",
   "id": "aebf8c6c",
   "metadata": {},
   "source": [
    "We can see that we got closer to the ideal value of 1, and got a better result than what we would get from the device without error mitigation!"
   ]
  },
  {
   "cell_type": "markdown",
   "id": "0ce10ba4",
   "metadata": {},
   "source": [
    "# References\n",
    "\n",
    "- [1] - Error mitigation for short-depth quantum circuits - Kristan Temme, Sergey Bravyi, Jay M. Gambetta [arxiv](https://arxiv.org/abs/1612.02058)\n",
    "\n",
    "- [2] - Digital zero noise extrapolation for quantum error mitigation -Tudor Giurgica-Tiron, Yousef Hindy, Ryan LaRose, Andrea Mari, William J. Zeng - [arxiv](https://arxiv.org/abs/2005.10921)"
   ]
  },
  {
   "cell_type": "code",
   "execution_count": 103,
   "id": "10b56abb",
   "metadata": {},
   "outputs": [
    {
     "data": {
      "text/html": [
       "<h3>Version Information</h3><table><tr><th>Qiskit Software</th><th>Version</th></tr><tr><td>Qiskit</td><td>0.26.2</td></tr><tr><td>Terra</td><td>0.17.4</td></tr><tr><td>Aer</td><td>0.8.2</td></tr><tr><td>Ignis</td><td>0.6.0</td></tr><tr><td>Aqua</td><td>0.9.1</td></tr><tr><td>IBM Q Provider</td><td>0.13.1</td></tr><tr><th>System information</th></tr><tr><td>Python</td><td>3.7.5 (default, Feb 23 2021, 13:22:40) \n",
       "[GCC 8.4.0]</td></tr><tr><td>OS</td><td>Linux</td></tr><tr><td>CPUs</td><td>2</td></tr><tr><td>Memory (Gb)</td><td>7.663978576660156</td></tr><tr><td colspan='2'>Mon May 31 17:56:11 2021 -03</td></tr></table>"
      ],
      "text/plain": [
       "<IPython.core.display.HTML object>"
      ]
     },
     "metadata": {},
     "output_type": "display_data"
    }
   ],
   "source": [
    "import qiskit.tools.jupyter\n",
    "%qiskit_version_table"
   ]
  }
 ],
 "metadata": {
  "kernelspec": {
   "display_name": "qsk-env",
   "language": "python",
   "name": "qsk-env"
  },
  "language_info": {
   "codemirror_mode": {
    "name": "ipython",
    "version": 3
   },
   "file_extension": ".py",
   "mimetype": "text/x-python",
   "name": "python",
   "nbconvert_exporter": "python",
   "pygments_lexer": "ipython3",
   "version": "3.7.5"
  }
 },
 "nbformat": 4,
 "nbformat_minor": 5
}
