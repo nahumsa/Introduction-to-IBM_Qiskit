{
 "cells": [
  {
   "cell_type": "markdown",
   "metadata": {},
   "source": [
    "# Solving systems of Linear Equations Using a Quantum Computer"
   ]
  },
  {
   "cell_type": "markdown",
   "metadata": {},
   "source": [
    "# 1) Introduction\n",
    "\n",
    "Systems of linear equations have a lot of applications in science. So if we find a speedup on solving this problem there is real impact on society. \n",
    "\n",
    "The problem that we want to solve is of the form:\n",
    "\n",
    "$$\n",
    "A x = b\n",
    "$$\n",
    "\n",
    "Where A is a matrix and b is given, we want to solve for x. Classicaly there is two types of solutions:\n",
    "\n",
    "- 1) **LU Decomposition**: That finds x in $O(N^{2.376} \\mathrm{poly}(log(k/\\epsilon)))$ where $\\epsilon$ is a bound of x error and k is the ith singular value, $k = ||A|| ||A^{-1}|| = \\frac{\\sigma_1(A)}{\\sigma_N(A)} \\sigma_1(A)$.\n",
    "\n",
    "- 2) **Iterative Methods**: Needs $O(\\sqrt{k} \\ \\mathrm{log}(1/\\epsilon))$ matrix vector multiplications. If A is spase, then we need $O(Nd\\sqrt{k} \\ \\mathrm{log}(1/\\epsilon))$ where d is the number of non-zero entries per row."
   ]
  },
  {
   "cell_type": "markdown",
   "metadata": {},
   "source": [
    "# 2) Quantum Algorithm\n",
    "\n",
    "## 2.1) Introduction\n",
    "For the implementation of this algorithm is important to understand the Quantum Phase Estimation algorithm, because this is an application of this algorithm.\n",
    "\n",
    "For the quantum algorithm we need to convert the linear equation problem for a quantum mechanical problem, to do this we represent b as quantum state: $$ | b \\rangle = \\sum_{i=1}^N b_i | i \\rangle$$ and  the problem is: \n",
    "\n",
    "$$\n",
    "A | x \\rangle = | b \\rangle\n",
    "$$\n",
    "\n",
    "we assume that A is an hermitian operator (Matrix), that means if A is not Hermitian we expand A in order to be hermitian:\n",
    "\n",
    "$$\n",
    "C = \\begin{pmatrix} 0 & A \\\\ A^{\\dagger} & 0 \\end{pmatrix}\n",
    "$$\n",
    "\n",
    "And change the problem to be $$Cy = \\begin{pmatrix} b \\\\ 0 \\end{pmatrix} \\ \\ \\ , \\ \\ y = \\begin{pmatrix} 0 \\\\ x \\end{pmatrix}$$\n",
    "\n",
    "The algorithm is called HHL because of the three authors of the original [paper](https://arxiv.org/abs/0811.3171):  Harrow, Hassidim and Lloyd. \n",
    "\n",
    "## 2.2) Overview of the Algorithm\n",
    "\n",
    "The HHL consists of 3 registers, which we denote as $A'$ for the ancilla, W for work register, and IO for Input/Output register. \n",
    "\n",
    "The input of the algorithm is the quantum state of b, $| b \\rangle$, which is input to the IO register. All other registers starts on the $| 0 \\rangle$, so we have:\n",
    "\n",
    "$$\n",
    "| \\psi_0 \\rangle \\equiv |0 \\rangle_{A'} \\otimes | 0 \\rangle_{W} \\otimes | b \\rangle_{IO}\n",
    "$$\n",
    "\n",
    "In addition, we also have the matrix A as the input of the algorithm. The algorithm works on three steps:\n",
    "\n",
    "- 1) Quantum Phase Estimation with the unitary $U_A \\equiv e^{iAt}$ controlled by the W register and $U_A$ applied to the IO register.\n",
    "\n",
    "- 2) Pauli-Y rotation for a particular angle $\\theta$ on the A' register controlled by the W register.\n",
    "\n",
    "- 3) Do the first step in reverse, that is do the Inverse Qunatum Phase Estimation for $U_A$, on the W register.\n",
    "\n",
    "If the register $A'$ is measured and one post-select (That is, we select only the state with the given outcome) on the $| 1 \\rangle_{A'}$ outcome, then the state of the IO register will be close to $| x \\rangle$."
   ]
  },
  {
   "cell_type": "markdown",
   "metadata": {},
   "source": [
    "## 2.3) Algorithm's Walkthrough\n",
    "\n",
    "Since we assume that the matrix A is hermitian, then because of the spectral theoram A can be written in the eigenbasis:\n",
    "\n",
    "$$\n",
    "A = \\sum_j \\lambda_j | u_j \\rangle \\langle u_j |\n",
    "$$\n",
    "\n",
    "Also because A is hermitian, the operator $U_A$ is unitary and has eigenvalues $e^{i \\lambda_j t}$ and eigenstates $| u_j \\rangle$. Then we apply the QPE:\n",
    "\n",
    "$$\n",
    "| \\psi_1 \\rangle = | 0 \\rangle_{A'} \\otimes \\sum_j \\beta_j | \\overline{\\lambda_j} \\rangle_{W} \\otimes | u_j \\rangle_{IO}\n",
    "$$\n",
    "\n",
    "Where $| \\overline{\\lambda_j} \\rangle$ is a binary representation of $\\lambda_j$ up to a set precision and $$\\sum_j \\beta_j | u_j \\rangle_{IO}$$ is the expansion of $| b \\rangle$ in the eigenbasis $| u_j \\rangle$. \n",
    "\n",
    "Applying the second step, which is the controlled-Y rotation $e^{i \\theta Y}$ for the angle:\n",
    "\n",
    "$$\n",
    "\\theta = \\mathrm{arccos} \\frac{C}{\\lambda_j}\n",
    "$$\n",
    "\n",
    "Where C is an hyperparameter of the algorithm and is set by the user. After this rotation on the A' register, we have:\n",
    "\n",
    "$$\n",
    "| \\psi_2 \\rangle = \\sum_j \\beta_j \\bigg( \\sqrt{ 1 - \\frac{C^2}{\\overline{\\lambda_j}^2}} | 0 \\rangle_{A'} + + \\frac{C}{\\overline{\\lambda_j}} | 0 \\rangle_{A'} \\bigg)\\otimes | \\overline{\\lambda_j} \\rangle_{W} \\otimes | u_j \\rangle_{IO}\n",
    "$$\n",
    "\n",
    "The third step is to do de reverse QPE, this gives:\n",
    "\n",
    "$$\n",
    "| \\psi_3 \\rangle = \\sum_j \\beta_j \\bigg( \\sqrt{ 1 - \\frac{C^2}{\\overline{\\lambda_j}^2}} | 0 \\rangle_{A'} + + \\frac{C}{\\overline{\\lambda_j}} | 0 \\rangle_{A'} \\bigg)\\otimes | 0 \\rangle_{W} \\otimes | u_j \\rangle_{IO}\n",
    "$$\n",
    "\n",
    "This state is already on the inverse form, because: $$ A^{-1} | b \\rangle = \\sum_{j=1}^N \\frac{\\beta_j}{\\lambda_j} | u_j \\rangle$$\n",
    "\n",
    "Therefore if we measure the A' register and post-select $| 1 \\rangle_{A'}$, we have the solution:\n",
    "\n",
    "$$\n",
    "| \\psi_4 \\rangle = \\sum_{j=1}^N \\frac{\\beta_j}{\\lambda_j} | u_j \\rangle_{IO} \\approx | x \\rangle\n",
    "$$\n",
    "\n",
    "Thus the IO register contains the approximation of $|x \\rangle$.\n",
    "\n",
    "This solves the linear equation problem exponentially faster than a classical computer, but there's a caveat (as always), the solution vector is a quantum state, therefore for getting the classical description of x we need to do quantum state tomography (QST) but QST scales exponentially with the number of qubits loosing the exponential speedup. There are some applications that we only need an expectation value, this leads to an exponential speedup.\n",
    "\n",
    "*Note*: A good value for the hyperparameter C is to be the smallest eigenvalue that can be represented by the circuit, that is \n",
    "\n",
    "$$\n",
    "C = \\frac{2 \\pi}{2^n t}\n",
    "$$"
   ]
  },
  {
   "cell_type": "markdown",
   "metadata": {},
   "source": [
    "# 3) Qiskit implementation\n",
    "\n",
    "For solving this problem we will use the qiskit.aqua library, that has implementations of more complex algorithms on qiskit.\n",
    "\n",
    "The way that Aqua works is to put together components of the algorithm, for instance, we need to instantiate the QPE outside the HHL algorithm and put this as the input of the HHL algorithm. \n",
    "\n",
    "Another component that we need to instantiate is the LookupRotation that is the controlled-Y rotation on step 2 of the algorithm."
   ]
  },
  {
   "cell_type": "code",
   "execution_count": 89,
   "metadata": {},
   "outputs": [],
   "source": [
    "from qiskit import Aer\n",
    "from qiskit.circuit.library import QFT\n",
    "from qiskit.aqua import QuantumInstance, aqua_globals\n",
    "from qiskit.quantum_info import state_fidelity\n",
    "from qiskit.aqua.algorithms import HHL, NumPyLSsolver\n",
    "from qiskit.aqua.components.eigs import EigsQPE\n",
    "from qiskit.aqua.components.reciprocals import LookupRotation\n",
    "from qiskit.aqua.operators import MatrixOperator\n",
    "from qiskit.aqua.components.initial_states import Custom\n",
    "import numpy as np"
   ]
  },
  {
   "cell_type": "code",
   "execution_count": 90,
   "metadata": {},
   "outputs": [],
   "source": [
    "def create_eigs(matrix, num_ancillae, num_time_slices, negative_evals):\n",
    "    \"\"\"QPE for the eigenvalues estimation.\n",
    "\n",
    "    Parameters\n",
    "    -------------------------------------------------------------------\n",
    "    matrix(np.array): Unitary matrix for the QPE.\n",
    "    num_ancillae(int): Number of ancillas.\n",
    "    num_time_slices(float): An optional evolution time which should scale the \n",
    "                            eigenvalue onto the range (0,1] (or (−0.5,0.5] for                                  \n",
    "                            negative eigenvalues).If None is internally computed.\n",
    "    negative_evals(Boolean): Set True to indicate negative eigenvalues need to be handled\n",
    "\n",
    "    \"\"\"\n",
    "    \n",
    "    ne_qfts = [None, None]\n",
    "    \n",
    "    if negative_evals:\n",
    "        num_ancillae += 1\n",
    "        ne_qfts = [QFT(num_ancillae - 1), QFT(num_ancillae - 1).inverse()]\n",
    "\n",
    "    return EigsQPE(MatrixOperator(matrix=matrix),\n",
    "                   QFT(num_ancillae).inverse(),\n",
    "                   num_time_slices=num_time_slices,\n",
    "                   num_ancillae=num_ancillae,\n",
    "                   expansion_mode='suzuki',\n",
    "                   expansion_order=2,\n",
    "                   evo_time=None,\n",
    "                   negative_evals=negative_evals,\n",
    "                   ne_qfts=ne_qfts)\n",
    "\n",
    "def fidelity(hhl, ref):\n",
    "    \"\"\" Helper function for the fidelity comparing \n",
    "    the solution from the HHL and the classical solution.\n",
    "    \"\"\"\n",
    "\n",
    "    solution_hhl_normed = hhl / np.linalg.norm(hhl)\n",
    "    solution_ref_normed = ref / np.linalg.norm(ref)\n",
    "    fidelity = state_fidelity(solution_hhl_normed, solution_ref_normed)        \n",
    "    return fidelity    "
   ]
  },
  {
   "cell_type": "markdown",
   "metadata": {},
   "source": [
    "## 3.1) Running on the statevector_simulation\n",
    "\n",
    "Let's solve the HHL algorithm for the following problem:\n",
    "\n",
    "$$\n",
    "A = \\begin{pmatrix} 1 & \\frac{1}{3} \\\\ \\frac{1}{3} & 1\\end{pmatrix} \\ \\ \\ \\ \\ b = \\begin{pmatrix} 1 \\\\ 4 \\end{pmatrix}\n",
    "$$"
   ]
  },
  {
   "cell_type": "code",
   "execution_count": 91,
   "metadata": {},
   "outputs": [],
   "source": [
    "A = [[1, 1/3], [1/3, 4]]\n",
    "b = [1, 4]"
   ]
  },
  {
   "cell_type": "code",
   "execution_count": 92,
   "metadata": {},
   "outputs": [
    {
     "output_type": "stream",
     "name": "stdout",
     "text": "solution: [0.31963-0.j 0.99125-0.j]\nclassical solution: [0.68571 0.94286] \nprobability: 0.3961689326934409\n"
    },
    {
     "output_type": "execute_result",
     "data": {
      "text/plain": "0.9029076959066863"
     },
     "metadata": {},
     "execution_count": 92
    }
   ],
   "source": [
    "orig_size = len(b)\n",
    "A, b, truncate_powerdim, truncate_hermitian = HHL.matrix_resize(A, b)\n",
    "\n",
    "# Initialize eigenvalue finding module\n",
    "eigs = create_eigs(matrix=A, num_ancillae=3, \n",
    "                   num_time_slices=50, \n",
    "                   negative_evals=False)\n",
    "\n",
    "num_q, num_a = eigs.get_register_sizes()\n",
    "\n",
    "# Initialize initial state module\n",
    "init_state = Custom(num_q, state_vector=b)\n",
    "\n",
    "# Initialize reciprocal rotation module\n",
    "reci = LookupRotation(negative_evals=eigs._negative_evals, \n",
    "                      evo_time=eigs._evo_time,\n",
    "                      scale=0.5)\n",
    "\n",
    "algo = HHL(matrix=A, vector=b, truncate_powerdim=truncate_powerdim, \n",
    "           truncate_hermitian=truncate_hermitian, eigs=eigs,\n",
    "           init_state=init_state, reciprocal=reci, \n",
    "           num_q= num_q, num_a=num_a, orig_size=orig_size)\n",
    "\n",
    "result = algo.run(QuantumInstance(Aer.get_backend('statevector_simulator')))\n",
    "\n",
    "print(f\"solution: {np.round(result['solution'], 5)}\")\n",
    "\n",
    "result_ref = NumPyLSsolver(A, b).run()\n",
    "print(f\"classical solution: {np.round(result_ref['solution'], 5)} \")\n",
    "\n",
    "print(f\"probability: {result['probability_result']}\")\n",
    "\n",
    "fidelity(result['solution'], result_ref['solution'])"
   ]
  },
  {
   "cell_type": "markdown",
   "metadata": {},
   "source": [
    "## 3.2) Using qasm_simulator"
   ]
  },
  {
   "cell_type": "code",
   "execution_count": 96,
   "metadata": {},
   "outputs": [
    {
     "output_type": "stream",
     "name": "stdout",
     "text": "solution: [0.33   +0.j 0.98999+0.j]\nclassical solution: [0.68571 0.94286] \nprobability: [0.41015625 0.43164062 0.41015625]\n"
    },
    {
     "output_type": "execute_result",
     "data": {
      "text/plain": "0.9086486486486484"
     },
     "metadata": {},
     "execution_count": 96
    }
   ],
   "source": [
    "orig_size = len(b)\n",
    "A, b, truncate_powerdim, truncate_hermitian = HHL.matrix_resize(A, b)\n",
    "\n",
    "# Initialize eigenvalue finding module\n",
    "eigs = create_eigs(matrix=A, num_ancillae=3, \n",
    "                   num_time_slices=50, \n",
    "                   negative_evals=False)\n",
    "\n",
    "num_q, num_a = eigs.get_register_sizes()\n",
    "\n",
    "# Initialize initial state module\n",
    "init_state = Custom(num_q, state_vector=b)\n",
    "\n",
    "# Initialize reciprocal rotation module\n",
    "reci = LookupRotation(negative_evals=eigs._negative_evals, \n",
    "                      evo_time=eigs._evo_time,\n",
    "                      scale=0.5)\n",
    "\n",
    "algo = HHL(matrix=A, vector=b, truncate_powerdim=truncate_powerdim, \n",
    "           truncate_hermitian=truncate_hermitian, eigs=eigs,\n",
    "           init_state=init_state, reciprocal=reci, \n",
    "           num_q= num_q, num_a=num_a, orig_size=orig_size)\n",
    "\n",
    "result = algo.run(QuantumInstance(Aer.get_backend('qasm_simulator')))\n",
    "\n",
    "print(f\"solution: {np.round(result['solution'], 5)}\")\n",
    "\n",
    "result_ref = NumPyLSsolver(A, b).run()\n",
    "print(f\"classical solution: {np.round(result_ref['solution'], 5)} \")\n",
    "\n",
    "print(f\"probability: {result['probability_result']}\")\n",
    "\n",
    "fidelity(result['solution'], result_ref['solution'])"
   ]
  },
  {
   "cell_type": "markdown",
   "metadata": {},
   "source": [
    "References:\n",
    "\n",
    "[1] - [Qiskit Legacy Tutorials](https://github.com/Qiskit/qiskit-tutorials/blob/master/legacy_tutorials/aqua/linear_systems_of_equations.ipynb);\n",
    "\n",
    "[2] - [HHL Paper](https://arxiv.org/abs/0811.3171);\n",
    "\n",
    "[3] - [J. Hidary - Quantum Computing: An Applied Approach](https://www.springer.com/gp/book/9783030239213);\n",
    "\n",
    "[4] - [Qiskit Book](https://qiskit.org/textbook/ch-applications/hhl_tutorial.html)."
   ]
  },
  {
   "cell_type": "markdown",
   "metadata": {},
   "source": [
    "-----------------------------------------------------------------"
   ]
  },
  {
   "cell_type": "code",
   "execution_count": 4,
   "metadata": {},
   "outputs": [
    {
     "output_type": "display_data",
     "data": {
      "text/plain": "<IPython.core.display.HTML object>",
      "text/html": "<h3>Version Information</h3><table><tr><th>Qiskit Software</th><th>Version</th></tr><tr><td>Qiskit</td><td>0.19.1</td></tr><tr><td>Terra</td><td>0.14.1</td></tr><tr><td>Aer</td><td>0.5.1</td></tr><tr><td>Ignis</td><td>0.3.0</td></tr><tr><td>Aqua</td><td>0.7.0</td></tr><tr><td>IBM Q Provider</td><td>0.7.0</td></tr><tr><th>System information</th></tr><tr><td>Python</td><td>3.7.3 | packaged by conda-forge | (default, Jul  1 2019, 21:52:21) \n[GCC 7.3.0]</td></tr><tr><td>OS</td><td>Linux</td></tr><tr><td>CPUs</td><td>2</td></tr><tr><td>Memory (Gb)</td><td>7.664028167724609</td></tr><tr><td colspan='2'>Tue Jun 16 17:28:02 2020 -03</td></tr></table>"
     },
     "metadata": {}
    }
   ],
   "source": [
    "from qiskit.tools.jupyter import *\n",
    "%qiskit_version_table"
   ]
  }
 ],
 "metadata": {
  "language_info": {
   "codemirror_mode": {
    "name": "ipython",
    "version": 3
   },
   "file_extension": ".py",
   "mimetype": "text/x-python",
   "name": "python",
   "nbconvert_exporter": "python",
   "pygments_lexer": "ipython3",
   "version": "3.7.3-final"
  },
  "orig_nbformat": 2,
  "kernelspec": {
   "name": "qiskit",
   "display_name": "qiskit"
  }
 },
 "nbformat": 4,
 "nbformat_minor": 2
}