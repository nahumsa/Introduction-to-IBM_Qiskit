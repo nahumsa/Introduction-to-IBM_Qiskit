{
 "cells": [
  {
   "cell_type": "code",
   "execution_count": 1,
   "metadata": {},
   "outputs": [
    {
     "data": {
      "text/html": [
       "<h3>Version Information</h3><table><tr><th>Qiskit Software</th><th>Version</th></tr><tr><td>Qiskit</td><td>0.12.1</td></tr><tr><td>Terra</td><td>0.9.0</td></tr><tr><td>Aer</td><td>0.3.0</td></tr><tr><td>Ignis</td><td>0.2.0</td></tr><tr><td>Aqua</td><td>0.6.0</td></tr><tr><td>IBM Q Provider</td><td>0.3.3</td></tr><tr><th>System information</th></tr><tr><td>Python</td><td>3.7.3 | packaged by conda-forge | (default, Jul  1 2019, 21:52:21) \n",
       "[GCC 7.3.0]</td></tr><tr><td>OS</td><td>Linux</td></tr><tr><td>CPUs</td><td>2</td></tr><tr><td>Memory (Gb)</td><td>7.676151275634766</td></tr><tr><td colspan='2'>Mon Oct 21 15:19:41 2019 -03</td></tr></table>"
      ],
      "text/plain": [
       "<IPython.core.display.HTML object>"
      ]
     },
     "metadata": {},
     "output_type": "display_data"
    }
   ],
   "source": [
    "import qiskit.tools.jupyter\n",
    "%qiskit_version_table"
   ]
  },
  {
   "cell_type": "markdown",
   "metadata": {},
   "source": [
    "# Deutsch Algorithm\n",
    "\n",
    "**Problem**: Consider an oracle evaluating a 1 bit boolean function $f: \\{ 0,1\\} \\rightarrow \\{ 0,1\\}$ we want to know if the function is constant ( $f(0) = 0$ and $f(1) = 1$) or balanced ( $f(0) = 1$ and $f(1) = 0$). \n",
    "\n",
    "For a classical computer it is needed two queries, that means, you need to test 2 diferent bits and see the outputs, for instance if $f(0) = 0$ and $f(1) = 1$ you know that the function is constant.\n",
    "\n",
    "For a quantum computer this can be done with only one query. This is done with the Deutsch algorithm, the idea is to check if it is balanced, if it is not balanced it is constant."
   ]
  },
  {
   "cell_type": "markdown",
   "metadata": {},
   "source": [
    "**Solution**: The Deutsch's Algorithm is the following:\n",
    "\n",
    "Start with the state $\\left| \\psi \\right> = \\left| 10 \\right>$:\n",
    "\n",
    "1) Apply a Hadamard on both qubits, the state will be: $\\left| \\psi_2 \\right> =$ $\\frac{1}{2} \\left( \\left| 0 \\right> - \\left| 1 \\right> \\right) \\otimes \\left( \\left| 0 \\right> + \\left| 1 \\right> \\right) $\n",
    "\n",
    "2) Apply a Unitary operator such that:  $U_f  \\frac{1}{\\sqrt 2} \\left( \\left| 0 \\right> - \\left| 1 \\right> \\right)\\left| x \\right> $ $ = (-1)^{f(x)} \\frac{1}{\\sqrt 2} \\left( \\left| 0 \\right> - \\left| 1 \\right> \\right)\\left| x \\right>$. The phase factor is \"kicked back\" on the front of the state, this will be useful to evaluate $f(x)$ with only one query. The state after $U_f$ is: $\\left| \\psi_3 \\right> =$ $\\frac{1}{2} \\left( \\left| 0 \\right> - \\left| 1 \\right> \\right) \\otimes \\left( (-1)^{f(0)}\\left| 0 \\right> + (-1)^{f(1)}\\left| 1 \\right> \\right) $\n",
    "\n",
    "3) Apply a Hadamard on the first Qubit: $\\left| \\psi_3 \\right> =$ $\\frac{1}{2} \\left( \\left| 0 \\right> - \\left| 1 \\right> \\right) \\otimes \\left[ \\left((-1)^{f(0)} + (-1)^{f(1)}\\right) \\left| 0 \\right> + \\left((-1)^{f(0)} - (-1)^{f(1)}\\right)\\left| 1 \\right> \\right] $\n",
    "\n",
    "So now if $f(0) = f(1)$ we will measure $\\left| 0 \\right> = \\left| f(0) \\bigoplus f(1) \\right>$ and if $f(0) \\neq f(1)$ we will measure $\\left| 1 \\right> = \\left| f(0) \\bigoplus f(1) \\right>$.\n",
    "\n",
    "In this implementation the oracle ($U_f$) is a C-NOT gate, this will measure if the function is balanced.\n",
    "\n",
    "This can be extended for a function with more inputs, not only two. In this case, the solution is the Deutsch–Jozsa Algorithm."
   ]
  },
  {
   "cell_type": "code",
   "execution_count": 2,
   "metadata": {},
   "outputs": [],
   "source": [
    "%matplotlib inline\n",
    "import qiskit as Qsk\n",
    "import numpy as np\n",
    "import matplotlib.pyplot as plt"
   ]
  },
  {
   "cell_type": "code",
   "execution_count": 3,
   "metadata": {},
   "outputs": [],
   "source": [
    "Q_Circuit = Qsk.QuantumCircuit(2)"
   ]
  },
  {
   "cell_type": "markdown",
   "metadata": {},
   "source": [
    "We start with the state $\\left| \\psi_0 \\right>$ $= \\left| 00 \\right>$ "
   ]
  },
  {
   "cell_type": "code",
   "execution_count": 4,
   "metadata": {},
   "outputs": [],
   "source": [
    "Q_Circuit.x(1);"
   ]
  },
  {
   "cell_type": "markdown",
   "metadata": {},
   "source": [
    "Now the state is $\\left| \\psi_1 \\right>$ $= \\left| 10 \\right>$"
   ]
  },
  {
   "cell_type": "code",
   "execution_count": 5,
   "metadata": {},
   "outputs": [],
   "source": [
    "Q_Circuit.h(0);\n",
    "Q_Circuit.h(1);"
   ]
  },
  {
   "cell_type": "markdown",
   "metadata": {},
   "source": [
    "Since the Haddamard gate is given by the following matrix on the computational basis:\n",
    "\n",
    "\\begin{equation}\n",
    "H = \\frac{1}{\\sqrt2}\n",
    " \\begin{pmatrix} \n",
    "1 & 1\\\\\n",
    "1 & -1 \\\\\n",
    "\\end{pmatrix}\n",
    "\\end{equation}\n",
    "\n",
    "Now the state is $\\left| \\psi_2 \\right> =$ $\\frac{1}{2} \\left( \\left| 0 \\right> - \\left| 1 \\right> \\right) \\otimes \\left( \\left| 0 \\right> + \\left| 1 \\right> \\right) $"
   ]
  },
  {
   "cell_type": "code",
   "execution_count": 6,
   "metadata": {},
   "outputs": [],
   "source": [
    "Q_Circuit.cx(0,1);"
   ]
  },
  {
   "cell_type": "markdown",
   "metadata": {},
   "source": [
    "$\\left| \\psi_3 \\right> =$ $ \\frac{1}{2} \\left[ \n",
    "\\left| 0 \\right> \\otimes \\left( \\left| 0 \\bigoplus 0 \\right> + \\left| 1 \\bigoplus 0 \\right> \\right) \n",
    "- \\left| 1 \\right> \\otimes \\left( \\left| 0 \\bigoplus 1 \\right> + \\left| 1 \\bigoplus 1 \\right> \\right)\n",
    "\\right]$"
   ]
  },
  {
   "cell_type": "markdown",
   "metadata": {},
   "source": [
    "$\\left| \\psi_3 \\right> = $ $ \\frac{1}{2} \\left[ \n",
    "\\left| 0 \\right> \\otimes \\left( \\left| 0 \\right> + \\left| 1  \\right> \\right) \n",
    "- \\left| 1 \\right> \\otimes \\left( \\left|  1 \\right> + \\left| 0 \\right> \\right)\n",
    "\\right]$"
   ]
  },
  {
   "cell_type": "code",
   "execution_count": 7,
   "metadata": {},
   "outputs": [],
   "source": [
    "Q_Circuit.h(0);"
   ]
  },
  {
   "cell_type": "markdown",
   "metadata": {},
   "source": [
    "After the Hadamard on the first qubit, we have that"
   ]
  },
  {
   "cell_type": "markdown",
   "metadata": {},
   "source": [
    "$\\left| \\psi_4 \\right> = $ $ \\frac{1}{2} \\left[ \n",
    "\\left( \\left| 0 \\right> + \\left| 1 \\right> \\right) \\otimes \\left( \\left| 0 \\right> + \\left| 1  \\right> \\right) \n",
    "- \\left( \\left| 0 \\right> - \\left| 1 \\right> \\right) \\otimes \\left( \\left|  1 \\right> + \\left| 0 \\right> \\right)\n",
    "\\right]$"
   ]
  },
  {
   "cell_type": "markdown",
   "metadata": {},
   "source": [
    "$\\left| \\psi_4 \\right> = $ $ \\frac{1}{\\sqrt2} \n",
    "\\left( \n",
    "\\left| 0 \\right> - \\left| 1 \\right>\n",
    "\\right) \\otimes\n",
    "\\left| 1 \\right>\n",
    "$"
   ]
  },
  {
   "cell_type": "markdown",
   "metadata": {},
   "source": [
    "## Building a measurement circuit and making experiments"
   ]
  },
  {
   "cell_type": "markdown",
   "metadata": {},
   "source": [
    "## First Experiment: Simulating the circuit on the computer"
   ]
  },
  {
   "cell_type": "code",
   "execution_count": 8,
   "metadata": {},
   "outputs": [
    {
     "data": {
      "image/png": "[encoded data removed]",
      "text/plain": [
       "<Figure size 517.72x204.68 with 1 Axes>"
      ]
     },
     "execution_count": 8,
     "metadata": {},
     "output_type": "execute_result"
    }
   ],
   "source": [
    "circ_meas = Qsk.QuantumCircuit(2, 1)\n",
    "circ_meas.barrier(range(2))\n",
    "circ_meas.measure(qubit=0,cbit=0)\n",
    "final_circ = Q_Circuit + circ_meas\n",
    "final_circ.draw(output='mpl')"
   ]
  },
  {
   "cell_type": "code",
   "execution_count": 9,
   "metadata": {},
   "outputs": [
    {
     "name": "stdout",
     "output_type": "stream",
     "text": [
      "{'1': 1024}\n"
     ]
    }
   ],
   "source": [
    "backend_sim = Qsk.Aer.get_backend('qasm_simulator')\n",
    "job_sim = Qsk.execute(final_circ, backend_sim, shots=1024)\n",
    "result_sim = job_sim.result()\n",
    "counts = result_sim.get_counts(final_circ)\n",
    "print(counts)"
   ]
  },
  {
   "cell_type": "code",
   "execution_count": 10,
   "metadata": {},
   "outputs": [
    {
     "data": {
      "image/png": "[encoded data removed]",
      "text/plain": [
       "<Figure size 504x360 with 1 Axes>"
      ]
     },
     "execution_count": 10,
     "metadata": {},
     "output_type": "execute_result"
    }
   ],
   "source": [
    "from qiskit.visualization import plot_histogram\n",
    "plot_histogram(counts)"
   ]
  },
  {
   "cell_type": "markdown",
   "metadata": {},
   "source": [
    "## Second Experiment: Running the circuit on the IBM Q"
   ]
  },
  {
   "cell_type": "code",
   "execution_count": 11,
   "metadata": {},
   "outputs": [],
   "source": [
    "from qiskit import IBMQ\n",
    "\n",
    "IBMQ.load_account();\n",
    "provider = IBMQ.get_provider(group='open')"
   ]
  },
  {
   "cell_type": "code",
   "execution_count": 12,
   "metadata": {},
   "outputs": [
    {
     "name": "stdout",
     "output_type": "stream",
     "text": [
      " NAME : ibmq_qasm_simulator\n",
      " STATUS:\n",
      "    backend_name    = ibmq_qasm_simulator\n",
      "    backend_version = 0.0.0\n",
      "    status_msg      = active\n",
      "    pending_jobs    = 0\n",
      "    operational     = True\n",
      " NAME : ibmqx2\n",
      " STATUS:\n",
      "    backend_name    = ibmqx2\n",
      "    backend_version = 2.0.0\n",
      "    status_msg      = active\n",
      "    pending_jobs    = 187\n",
      "    operational     = True\n",
      " NAME : ibmq_16_melbourne\n",
      " STATUS:\n",
      "    backend_name    = ibmq_16_melbourne\n",
      "    backend_version = 1.0.0\n",
      "    status_msg      = active\n",
      "    pending_jobs    = 11\n",
      "    operational     = True\n",
      " NAME : ibmq_vigo\n",
      " STATUS:\n",
      "    backend_name    = ibmq_vigo\n",
      "    backend_version = 1.0.1\n",
      "    status_msg      = active\n",
      "    pending_jobs    = 2\n",
      "    operational     = True\n",
      " NAME : ibmq_ourense\n",
      " STATUS:\n",
      "    backend_name    = ibmq_ourense\n",
      "    backend_version = 1.0.1\n",
      "    status_msg      = active\n",
      "    pending_jobs    = 1\n",
      "    operational     = True\n"
     ]
    }
   ],
   "source": [
    "from Q_Functions import Print_status\n",
    "\n",
    "Print_status()"
   ]
  },
  {
   "cell_type": "markdown",
   "metadata": {},
   "source": [
    "Choosing the least busy backend"
   ]
  },
  {
   "cell_type": "code",
   "execution_count": 13,
   "metadata": {},
   "outputs": [],
   "source": [
    "backend = provider.get_backend('ibmq_ourense')"
   ]
  },
  {
   "cell_type": "markdown",
   "metadata": {},
   "source": [
    "Submiting the job for the IBM Q platform"
   ]
  },
  {
   "cell_type": "code",
   "execution_count": 14,
   "metadata": {},
   "outputs": [
    {
     "name": "stdout",
     "output_type": "stream",
     "text": [
      "Job Status: job has successfully run\n"
     ]
    }
   ],
   "source": [
    "from qiskit.tools.monitor import job_monitor\n",
    "\n",
    "job_exp = Qsk.execute(final_circ, backend=backend)\n",
    "job_monitor(job_exp)"
   ]
  },
  {
   "cell_type": "code",
   "execution_count": 15,
   "metadata": {},
   "outputs": [],
   "source": [
    "result_exp = job_exp.result()"
   ]
  },
  {
   "cell_type": "code",
   "execution_count": 16,
   "metadata": {},
   "outputs": [
    {
     "data": {
      "image/png": "[encoded data removed]",
      "text/plain": [
       "<Figure size 504x360 with 1 Axes>"
      ]
     },
     "execution_count": 16,
     "metadata": {},
     "output_type": "execute_result"
    }
   ],
   "source": [
    "from qiskit.visualization import plot_histogram\n",
    "counts_exp = result_exp.get_counts(final_circ)\n",
    "plot_histogram([counts_exp,counts], legend=['Device', 'Simulator'])"
   ]
  },
  {
   "cell_type": "markdown",
   "metadata": {},
   "source": [
    "Printing the Job ID"
   ]
  },
  {
   "cell_type": "code",
   "execution_count": 17,
   "metadata": {},
   "outputs": [
    {
     "name": "stdout",
     "output_type": "stream",
     "text": [
      "JOB ID: 5dadf6e49557e20018cc419f\n"
     ]
    }
   ],
   "source": [
    "job_id = job_exp.job_id()\n",
    "\n",
    "print('JOB ID: {}'.format(job_id))"
   ]
  },
  {
   "cell_type": "markdown",
   "metadata": {},
   "source": [
    "This shows that the error of this algorithm on a real computer is $0.052$ ."
   ]
  }
 ],
 "metadata": {
  "kernelspec": {
   "display_name": "qiskit",
   "language": "python",
   "name": "qiskit"
  },
  "language_info": {
   "codemirror_mode": {
    "name": "ipython",
    "version": 3
   },
   "file_extension": ".py",
   "mimetype": "text/x-python",
   "name": "python",
   "nbconvert_exporter": "python",
   "pygments_lexer": "ipython3",
   "version": "3.7.3"
  }
 },
 "nbformat": 4,
 "nbformat_minor": 2
}
