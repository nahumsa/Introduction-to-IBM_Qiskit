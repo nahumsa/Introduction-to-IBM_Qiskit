{
 "cells": [
  {
   "cell_type": "markdown",
   "metadata": {
    "toc": true
   },
   "source": [
    "<h1>Table of Contents<span class=\"tocSkip\"></span></h1>\n",
    "<div class=\"toc\"><ul class=\"toc-item\"><li><span><a href=\"#Introduction\" data-toc-modified-id=\"Introduction-1\"><span class=\"toc-item-num\">1&nbsp;&nbsp;</span>Introduction</a></span><ul class=\"toc-item\"><li><span><a href=\"#Building-a-entangled-stated-from-stcratch\" data-toc-modified-id=\"Building-a-entangled-stated-from-stcratch-1.1\"><span class=\"toc-item-num\">1.1&nbsp;&nbsp;</span>Building a entangled stated from stcratch</a></span></li><li><span><a href=\"#Simulating-a-theoretical-circuit\" data-toc-modified-id=\"Simulating-a-theoretical-circuit-1.2\"><span class=\"toc-item-num\">1.2&nbsp;&nbsp;</span>Simulating a theoretical circuit</a></span></li><li><span><a href=\"#Simulating-a-real-circuit\" data-toc-modified-id=\"Simulating-a-real-circuit-1.3\"><span class=\"toc-item-num\">1.3&nbsp;&nbsp;</span>Simulating a real circuit</a></span></li><li><span><a href=\"#Runing-the-circuit-on-a-real-Quantum-Computer\" data-toc-modified-id=\"Runing-the-circuit-on-a-real-Quantum-Computer-1.4\"><span class=\"toc-item-num\">1.4&nbsp;&nbsp;</span>Runing the circuit on a real Quantum Computer</a></span></li></ul></li></ul></div>"
   ]
  },
  {
   "cell_type": "code",
   "execution_count": 1,
   "metadata": {},
   "outputs": [
    {
     "data": {
      "text/html": [
       "<h3>Version Information</h3><table><tr><th>Qiskit Software</th><th>Version</th></tr><tr><td>Qiskit</td><td>0.13.0</td></tr><tr><td>Terra</td><td>0.10.0</td></tr><tr><td>Aer</td><td>0.3.2</td></tr><tr><td>Ignis</td><td>0.2.0</td></tr><tr><td>Aqua</td><td>0.6.1</td></tr><tr><td>IBM Q Provider</td><td>0.3.3</td></tr><tr><th>System information</th></tr><tr><td>Python</td><td>3.7.3 | packaged by conda-forge | (default, Jul  1 2019, 21:52:21) \n",
       "[GCC 7.3.0]</td></tr><tr><td>OS</td><td>Linux</td></tr><tr><td>CPUs</td><td>2</td></tr><tr><td>Memory (Gb)</td><td>7.6761474609375</td></tr><tr><td colspan='2'>Sat Nov 09 22:54:53 2019 -03</td></tr></table>"
      ],
      "text/plain": [
       "<IPython.core.display.HTML object>"
      ]
     },
     "metadata": {},
     "output_type": "display_data"
    }
   ],
   "source": [
    "from qiskit.tools.jupyter import *\n",
    "%qiskit_version_table"
   ]
  },
  {
   "cell_type": "code",
   "execution_count": 2,
   "metadata": {},
   "outputs": [],
   "source": [
    "%matplotlib inline\n",
    "import qiskit as Qsk\n",
    "import numpy as np\n",
    "import matplotlib.pyplot as plt"
   ]
  },
  {
   "cell_type": "markdown",
   "metadata": {},
   "source": [
    "# Introduction"
   ]
  },
  {
   "cell_type": "markdown",
   "metadata": {},
   "source": [
    "## Building a entangled stated from stcratch\n",
    "\n",
    "We want to build a Bell State from a state that is $\\left| 00 \\right>$, the final state is:\n",
    "\n",
    "\\begin{equation}\n",
    "    \\left| \\psi \\right> = \\frac{\\left| 00 \\right> + \\left| 11 \\right>}{\\sqrt 2}\n",
    "\\end{equation}\n",
    "\n",
    "------------------------------\n",
    "Observation: (Taken from qiskit website)\n",
    "\n",
    "When representing the state of a multi-qubit system, the tensor order used in Qiskit is different than that used in most physics textbooks. Suppose there are $n$ qubits, and qubit $j$ is labeled as $Q_{j}$. Qiskit uses an ordering in which the $n^{\\mathrm{th}}$ qubit is on the left side of the tensor product, so that the basis vectors are labeled as $Q_n\\otimes \\cdots  \\otimes  Q_1\\otimes Q_0$. For example, if qubit zero is in state 0, qubit 1 is in state 0, and qubit 2 is in state 1, Qiskit would represent this state as $|100\\rangle$, whereas many physics textbooks would represent it as $|001\\rangle$. \n",
    "\n",
    "------------------------------\n",
    "The gates that we will use are:\n",
    "\n",
    "- Hadamard: This is an one qubit gate that is represented on the computational basis by:\n",
    "\n",
    "\\begin{equation}\n",
    "H = \\frac{1}{\\sqrt2}\n",
    " \\begin{pmatrix} \n",
    "1 & 1\\\\\n",
    "1 & -1 \\\\\n",
    "\\end{pmatrix}\n",
    "\\end{equation}\n",
    "\n",
    "- $C_x$(Controlled X): This is a two qubit gate that changes the second qubit if the first qubit is on the state $\\left| 1 \\right>$. On the computational basis is represented by:\n",
    "\n",
    "\\begin{equation}\n",
    "C_x = \n",
    " \\begin{pmatrix} \n",
    "1 & 0 & 0 & 0 \\\\\n",
    "0 & 0 & 0 & 1 \\\\\n",
    "0 & 0 & 1 & 0 \\\\\n",
    "0 & 1 & 0 & 0 \\\\\n",
    "\\end{pmatrix}\n",
    "\\end{equation}\n"
   ]
  },
  {
   "cell_type": "code",
   "execution_count": 3,
   "metadata": {},
   "outputs": [],
   "source": [
    "circ = Qsk.QuantumCircuit(2)"
   ]
  },
  {
   "cell_type": "markdown",
   "metadata": {},
   "source": [
    "Adding gates"
   ]
  },
  {
   "cell_type": "code",
   "execution_count": 4,
   "metadata": {},
   "outputs": [],
   "source": [
    "circ.h(0); #Add Hadamard on 0\n",
    "circ.cx(0, 1); #Add CNOT on 0 and 1"
   ]
  },
  {
   "cell_type": "code",
   "execution_count": 5,
   "metadata": {},
   "outputs": [
    {
     "data": {
      "image/png": "[encoded data removed]",
      "text/plain": [
       "<Figure size 276.92x144.48 with 1 Axes>"
      ]
     },
     "execution_count": 5,
     "metadata": {},
     "output_type": "execute_result"
    }
   ],
   "source": [
    "circ.draw(output='mpl')"
   ]
  },
  {
   "cell_type": "markdown",
   "metadata": {},
   "source": [
    "## Simulating a theoretical circuit\n",
    "\n",
    "For a simulation, we wil use `qiskit.Aer`."
   ]
  },
  {
   "cell_type": "markdown",
   "metadata": {},
   "source": [
    "First we choose a backend that will run the circuit."
   ]
  },
  {
   "cell_type": "code",
   "execution_count": 6,
   "metadata": {},
   "outputs": [],
   "source": [
    "backend = Qsk.Aer.get_backend('statevector_simulator')"
   ]
  },
  {
   "cell_type": "markdown",
   "metadata": {},
   "source": [
    "After choosing the backend we submit a job for this backend with the `execute` command"
   ]
  },
  {
   "cell_type": "code",
   "execution_count": 7,
   "metadata": {},
   "outputs": [],
   "source": [
    "job = Qsk.execute(circ, backend)"
   ]
  },
  {
   "cell_type": "markdown",
   "metadata": {},
   "source": [
    "After the job is done, you acces the result"
   ]
  },
  {
   "cell_type": "code",
   "execution_count": 8,
   "metadata": {},
   "outputs": [],
   "source": [
    "result = job.result()"
   ]
  },
  {
   "cell_type": "markdown",
   "metadata": {},
   "source": [
    "You can print your output state after your circuit"
   ]
  },
  {
   "cell_type": "code",
   "execution_count": 9,
   "metadata": {},
   "outputs": [
    {
     "name": "stdout",
     "output_type": "stream",
     "text": [
      "[0.707+0.j 0.   +0.j 0.   +0.j 0.707+0.j]\n"
     ]
    }
   ],
   "source": [
    "outputstate = result.get_statevector(circ, decimals=3)\n",
    "print(outputstate)"
   ]
  },
  {
   "cell_type": "markdown",
   "metadata": {},
   "source": [
    "Or you can visualize the density matrix of the result ofyour circuit"
   ]
  },
  {
   "cell_type": "code",
   "execution_count": 10,
   "metadata": {},
   "outputs": [
    {
     "data": {
      "image/png": "[encoded data removed]",
      "text/plain": [
       "<Figure size 1080x360 with 2 Axes>"
      ]
     },
     "execution_count": 10,
     "metadata": {},
     "output_type": "execute_result"
    }
   ],
   "source": [
    "from qiskit.visualization import plot_state_city\n",
    "plot_state_city(outputstate)"
   ]
  },
  {
   "cell_type": "markdown",
   "metadata": {},
   "source": [
    "## Simulating a real circuit\n",
    "\n",
    "The previous simulation is a theoretical realization of our circuit, but when you are working with a real quantum computer you have to measure your qubits in order to get your results. This will cause the qubits to colapse to bits and we can acces them.\n",
    "\n",
    "So in order to do measurements we will have to change our previous circuit."
   ]
  },
  {
   "cell_type": "code",
   "execution_count": 11,
   "metadata": {},
   "outputs": [],
   "source": [
    "circ_meas = Qsk.QuantumCircuit(2, 2)"
   ]
  },
  {
   "cell_type": "markdown",
   "metadata": {},
   "source": [
    "Construct a barrier between the measurements and you unitary transformations"
   ]
  },
  {
   "cell_type": "code",
   "execution_count": 12,
   "metadata": {},
   "outputs": [],
   "source": [
    "circ_meas.barrier(range(2));"
   ]
  },
  {
   "cell_type": "markdown",
   "metadata": {},
   "source": [
    "Map your quantum measurement to your classical bits"
   ]
  },
  {
   "cell_type": "code",
   "execution_count": 13,
   "metadata": {},
   "outputs": [],
   "source": [
    "circ_meas.measure(range(2),range(2));"
   ]
  },
  {
   "cell_type": "markdown",
   "metadata": {},
   "source": [
    "Append your measurement circuit to your unitary transformations"
   ]
  },
  {
   "cell_type": "code",
   "execution_count": 14,
   "metadata": {},
   "outputs": [],
   "source": [
    "final_circ = circ+circ_meas"
   ]
  },
  {
   "cell_type": "code",
   "execution_count": 15,
   "metadata": {},
   "outputs": [
    {
     "data": {
      "image/png": "[encoded data removed]",
      "text/plain": [
       "<Figure size 457.52x204.68 with 1 Axes>"
      ]
     },
     "execution_count": 15,
     "metadata": {},
     "output_type": "execute_result"
    }
   ],
   "source": [
    "final_circ.draw(output='mpl')"
   ]
  },
  {
   "cell_type": "markdown",
   "metadata": {},
   "source": [
    "Now we can simulate a real quantum computer using `qasm_simulator`."
   ]
  },
  {
   "cell_type": "code",
   "execution_count": 16,
   "metadata": {},
   "outputs": [],
   "source": [
    "backend_sim = Qsk.Aer.get_backend('qasm_simulator')"
   ]
  },
  {
   "cell_type": "markdown",
   "metadata": {},
   "source": [
    "Now we have to choose how many times we will do this circuit, that is called \"shots\""
   ]
  },
  {
   "cell_type": "code",
   "execution_count": 17,
   "metadata": {},
   "outputs": [],
   "source": [
    "job_sim = Qsk.execute(final_circ, backend_sim, shots=1024)\n",
    "result_sim = job_sim.result()"
   ]
  },
  {
   "cell_type": "markdown",
   "metadata": {},
   "source": [
    "Now we can see how many shots arived on each state"
   ]
  },
  {
   "cell_type": "code",
   "execution_count": 18,
   "metadata": {},
   "outputs": [
    {
     "name": "stdout",
     "output_type": "stream",
     "text": [
      "{'00': 515, '11': 509}\n"
     ]
    }
   ],
   "source": [
    "counts = result_sim.get_counts(final_circ)\n",
    "print(counts)"
   ]
  },
  {
   "cell_type": "code",
   "execution_count": 19,
   "metadata": {},
   "outputs": [
    {
     "data": {
      "image/png": "[encoded data removed]",
      "text/plain": [
       "<Figure size 504x360 with 1 Axes>"
      ]
     },
     "execution_count": 19,
     "metadata": {},
     "output_type": "execute_result"
    }
   ],
   "source": [
    "from qiskit.visualization import plot_histogram\n",
    "plot_histogram(counts)"
   ]
  },
  {
   "cell_type": "markdown",
   "metadata": {},
   "source": [
    "Therefore, we have approximately 50% shots on each state. This is exactly what we expected for the bell state."
   ]
  },
  {
   "cell_type": "markdown",
   "metadata": {},
   "source": [
    "## Runing the circuit on a real Quantum Computer"
   ]
  },
  {
   "cell_type": "markdown",
   "metadata": {},
   "source": [
    "In order to acces the IBM Q, you will need to [register](https://quantum-computing.ibm.com/) and copy the Token from you profile. Here the token is on a `.txt` file in order to the token remain private on the code."
   ]
  },
  {
   "cell_type": "markdown",
   "metadata": {},
   "source": [
    "You only need to register your account on your computer once using `save_account`, after this you can get acces your account using`load_account`"
   ]
  },
  {
   "cell_type": "code",
   "execution_count": 20,
   "metadata": {},
   "outputs": [],
   "source": [
    "from qiskit import IBMQ\n",
    "token = np.loadtxt(\"Token.txt\", unpack=True, dtype=str)\n",
    "IBMQ.save_account(token, overwrite=True)"
   ]
  },
  {
   "cell_type": "code",
   "execution_count": 21,
   "metadata": {},
   "outputs": [],
   "source": [
    "IBMQ.load_account();"
   ]
  },
  {
   "cell_type": "code",
   "execution_count": 22,
   "metadata": {},
   "outputs": [],
   "source": [
    "provider = IBMQ.get_provider(group='open')"
   ]
  },
  {
   "cell_type": "markdown",
   "metadata": {},
   "source": [
    "This is the list of chips that you have acces and their status"
   ]
  },
  {
   "cell_type": "code",
   "execution_count": 23,
   "metadata": {},
   "outputs": [],
   "source": [
    "def Print_status():\n",
    "    \"\"\"Print the status of each  IBM Q backend.\n",
    "    This function was made originaly by \n",
    "    Leonardo Cirto.\n",
    "    \n",
    "    OUTPUT\n",
    "    ---------------------------------\n",
    "    NAME : \n",
    "    STATUS:\n",
    "        backend_name    \n",
    "        backend_version \n",
    "        status_msg      \n",
    "        pending_jobs    \n",
    "        operational     \n",
    "    \"\"\"\n",
    "    provider = IBMQ.get_provider(group='open')\n",
    "    backend_list = provider.backends()\n",
    "    for BACKEND in backend_list:\n",
    "        print(' NAME :', BACKEND)\n",
    "        STATUS = BACKEND.status()\n",
    "        print(' STATUS:' )\n",
    "        print('    backend_name    =',  STATUS.backend_name )\n",
    "        print('    backend_version =',  STATUS.backend_version )\n",
    "        print('    status_msg      =',  STATUS.status_msg )\n",
    "        print('    pending_jobs    =',  STATUS.pending_jobs )\n",
    "        print('    operational     =',  STATUS.operational  )"
   ]
  },
  {
   "cell_type": "code",
   "execution_count": 24,
   "metadata": {
    "scrolled": true
   },
   "outputs": [
    {
     "name": "stdout",
     "output_type": "stream",
     "text": [
      " NAME : ibmq_qasm_simulator\n",
      " STATUS:\n",
      "    backend_name    = ibmq_qasm_simulator\n",
      "    backend_version = 0.0.0\n",
      "    status_msg      = active\n",
      "    pending_jobs    = 3\n",
      "    operational     = True\n",
      " NAME : ibmqx2\n",
      " STATUS:\n",
      "    backend_name    = ibmqx2\n",
      "    backend_version = 2.0.0\n",
      "    status_msg      = active\n",
      "    pending_jobs    = 3\n",
      "    operational     = True\n",
      " NAME : ibmq_16_melbourne\n",
      " STATUS:\n",
      "    backend_name    = ibmq_16_melbourne\n",
      "    backend_version = 1.0.0\n",
      "    status_msg      = active\n",
      "    pending_jobs    = 29\n",
      "    operational     = True\n",
      " NAME : ibmq_vigo\n",
      " STATUS:\n",
      "    backend_name    = ibmq_vigo\n",
      "    backend_version = 1.0.1\n",
      "    status_msg      = active\n",
      "    pending_jobs    = 4\n",
      "    operational     = True\n",
      " NAME : ibmq_ourense\n",
      " STATUS:\n",
      "    backend_name    = ibmq_ourense\n",
      "    backend_version = 1.0.1\n",
      "    status_msg      = active\n",
      "    pending_jobs    = 11\n",
      "    operational     = True\n",
      " NAME : ibmq_london\n",
      " STATUS:\n",
      "    backend_name    = ibmq_london\n",
      "    backend_version = 1.0.0\n",
      "    status_msg      = active\n",
      "    pending_jobs    = 138\n",
      "    operational     = True\n",
      " NAME : ibmq_burlington\n",
      " STATUS:\n",
      "    backend_name    = ibmq_burlington\n",
      "    backend_version = 1.1.4\n",
      "    status_msg      = active\n",
      "    pending_jobs    = 43\n",
      "    operational     = True\n",
      " NAME : ibmq_essex\n",
      " STATUS:\n",
      "    backend_name    = ibmq_essex\n",
      "    backend_version = 1.0.1\n",
      "    status_msg      = active\n",
      "    pending_jobs    = 4\n",
      "    operational     = True\n"
     ]
    }
   ],
   "source": [
    "Print_status()"
   ]
  },
  {
   "cell_type": "markdown",
   "metadata": {},
   "source": [
    "Or use the following magic function"
   ]
  },
  {
   "cell_type": "code",
   "execution_count": 25,
   "metadata": {
    "scrolled": false
   },
   "outputs": [
    {
     "data": {
      "application/vnd.jupyter.widget-view+json": {
       "model_id": "d529e854062440798185db79f10898a7",
       "version_major": 2,
       "version_minor": 0
      },
      "text/plain": [
       "VBox(children=(HTML(value=\"<h2 style ='color:#ffffff; background-color:#000000;padding-top: 1%; padding-bottom…"
      ]
     },
     "metadata": {},
     "output_type": "display_data"
    }
   ],
   "source": [
    "%qiskit_backend_overview"
   ]
  },
  {
   "cell_type": "markdown",
   "metadata": {},
   "source": [
    "Then you choose one of those backends"
   ]
  },
  {
   "cell_type": "code",
   "execution_count": 26,
   "metadata": {},
   "outputs": [],
   "source": [
    "backend = provider.get_backend('ibmqx2')"
   ]
  },
  {
   "cell_type": "markdown",
   "metadata": {},
   "source": [
    "Now we submit our job for the IBM Q platform, and monitor it by using the function `job_monitor`"
   ]
  },
  {
   "cell_type": "code",
   "execution_count": 27,
   "metadata": {},
   "outputs": [
    {
     "name": "stdout",
     "output_type": "stream",
     "text": [
      "Job Status: job has successfully run\n"
     ]
    }
   ],
   "source": [
    "from qiskit.tools.monitor import job_monitor\n",
    "\n",
    "job_exp = Qsk.execute(final_circ, backend=backend)\n",
    "job_monitor(job_exp)"
   ]
  },
  {
   "cell_type": "code",
   "execution_count": 28,
   "metadata": {},
   "outputs": [],
   "source": [
    "result_exp = job_exp.result()"
   ]
  },
  {
   "cell_type": "code",
   "execution_count": 29,
   "metadata": {},
   "outputs": [
    {
     "data": {
      "image/png": "[encoded data removed]",
      "text/plain": [
       "<Figure size 504x360 with 1 Axes>"
      ]
     },
     "execution_count": 29,
     "metadata": {},
     "output_type": "execute_result"
    }
   ],
   "source": [
    "from qiskit.visualization import plot_histogram\n",
    "counts_exp = result_exp.get_counts(final_circ)\n",
    "plot_histogram([counts_exp,counts], legend=['Device', 'Simulator'])"
   ]
  },
  {
   "cell_type": "markdown",
   "metadata": {},
   "source": [
    "If you want to retrieve older jobs after closing your code you need your job_id"
   ]
  },
  {
   "cell_type": "code",
   "execution_count": 30,
   "metadata": {},
   "outputs": [
    {
     "name": "stdout",
     "output_type": "stream",
     "text": [
      "JOB ID: 5dc76e2337831000121eef9a\n"
     ]
    }
   ],
   "source": [
    "job_id = job_exp.job_id()\n",
    "\n",
    "print('JOB ID: {}'.format(job_id))"
   ]
  },
  {
   "cell_type": "markdown",
   "metadata": {},
   "source": [
    "To acces your old job, you need to be in the same backend"
   ]
  },
  {
   "cell_type": "code",
   "execution_count": 31,
   "metadata": {},
   "outputs": [],
   "source": [
    "retrieved_job = backend.retrieve_job(job_id)"
   ]
  },
  {
   "cell_type": "code",
   "execution_count": 32,
   "metadata": {},
   "outputs": [
    {
     "data": {
      "text/plain": [
       "{'01': 24, '00': 454, '11': 531, '10': 15}"
      ]
     },
     "execution_count": 32,
     "metadata": {},
     "output_type": "execute_result"
    }
   ],
   "source": [
    "retrieved_job.result().get_counts(final_circ)"
   ]
  }
 ],
 "metadata": {
  "kernelspec": {
   "display_name": "qiskit",
   "language": "python",
   "name": "qiskit"
  },
  "language_info": {
   "codemirror_mode": {
    "name": "ipython",
    "version": 3
   },
   "file_extension": ".py",
   "mimetype": "text/x-python",
   "name": "python",
   "nbconvert_exporter": "python",
   "pygments_lexer": "ipython3",
   "version": "3.7.3"
  },
  "toc": {
   "base_numbering": 1,
   "nav_menu": {},
   "number_sections": true,
   "sideBar": true,
   "skip_h1_title": false,
   "title_cell": "Table of Contents",
   "title_sidebar": "Contents",
   "toc_cell": true,
   "toc_position": {},
   "toc_section_display": true,
   "toc_window_display": false
  }
 },
 "nbformat": 4,
 "nbformat_minor": 2
}
