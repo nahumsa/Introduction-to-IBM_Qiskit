{
 "cells": [
  {
   "cell_type": "markdown",
   "id": "4f2fb4c4",
   "metadata": {},
   "source": [
    "# Quantum Simulation\n",
    "\n",
    "## Theory\n",
    "\n",
    "We are concerned to find the solution of the Schrodinger Equation : $i \\frac{d |\\psi \\rangle}{dt} = H | \\psi \\rangle$, which for a time-independent $H$ the solution is:\n",
    "\n",
    "$$\n",
    "    | \\psi (t) \\rangle = e^{- i H t} | \\psi (0) \\rangle\n",
    "$$\n",
    "\n",
    "H is extremely hard to exponentiate, thus we need to find an approximate solution. A good start is to use a first-order approximation $|\\psi(t + \\Delta t \\rangle \\approx (I - iH \\Delta t) | \\psi (0) \\rangle$, which is easier to do than exponentiating, therefore we can approximate $(I - i H \\Delta t)$ using quantum gates. However, this approximation is not always satisfactory.\n",
    "\n",
    "Efficient approximations can be obtained for many classes of Hamiltonians up to high order. Many quantum systems can be written as interactions of local Hamiltonians. For a system of $n$ particles, $H = \\sum_{k=1}^L H_k$ where each $H_k$ acts on at most a constant number of particles, this restriction leads that $L = poly(n)$. Often $H_k$ are one-body interactions such as $X_j$ or two-body interactions such as $X_j X_l$.\n",
    "\n",
    "For this kind of Hamiltonian we have that $e^{-i H t}$ is hard to compute, as usual, but $e^{- i H_k t}$ is rather easy since it acts on a smaller sub-system. There is only one problem: In general $e^{-iHt} \\neq \\prod_k e^{-i H_j t}$ when $[ H_j, H_k] \\neq 0$.\n",
    "\n",
    "Let's show that if $[ H_j, H_k] = 0$, then $e^{-iHt} = \\prod_k e^{-i H_k t}$:\n",
    "\n",
    "$$\n",
    "    e^{-i H t} = e^{- i \\sum_k H_k t}\n",
    "$$\n",
    "\n",
    "Using the Zassenhaus formula, we have that $ e^{t ( A + B)} = e^{tA} e^{tB} \\prod_{n=2}^\\infty e^{t^n Z_n (A,B)}$, where $Z_n (A, B) = \\frac{1}{n!} \\bigg[ \\frac{d}{dt^n} \\bigg( e^{-t^{n-1} Z_{n-1}} \\dots e^{t^2 Z_2(A, B)} e^{-tB} e^{-tA} e^{t(A+B)} \\bigg) \\bigg]_{t=0}$. \n",
    "\n",
    "Simplifying: $e^{t(A+B)} = e^{tA} e^{tB} e^{-\\frac{t^2}{2}[A,B]} e^{\\frac{t^3}{3!} ( 2 [B, [A,B]] + [A, [A,B]])} \\dots$. Thus we have that:\n",
    "\n",
    "$$\n",
    "\\begin{split}\n",
    "    e^{-i H t} & = e^{- i t (H_1 + \\sum_{k=2}^L H_k} = e^{- i t H_1} e^{- i t \\sum_k H_k} e^{-\\frac{t^2}{2}[H_1,\\sum_k H_k]} \\dots \\\\\n",
    "     & = e^{-it H_1} e^{-i t \\sum_k H_k} = \\dots = \\prod_{k=1}^L e^{-i t H_k}\n",
    "\\end{split}\n",
    "$$\n",
    "\n",
    "We can also show that the restriction of $H_k$ to involve at most a constant number of particles, $c$, implies that we have a polynomial amount of terms, precisely $L$ is upper-bounded by a polynomial in $n$.\n",
    "\n",
    "$$\n",
    "\\begin{split}\n",
    "    \\text{#  of  terms} & \\leq \\text{#  of  cosets  of  n  that  has  the  size  at  most  c} \\\\\n",
    "    L & \\leq \\binom{n}{1} + \\binom{n}{2} + \\dots + \\binom{n}{c} \\\\\n",
    "      & \\leq c \\binom{n}{c} \\leq \\frac{n^c}{(c-1)!} \\\\ \n",
    "      & \\Rightarrow L \\leq poly(c)\n",
    "\\end{split}\n",
    "$$\n",
    "\n",
    "The main algorithm for quantum simulation uses the Trotter Formula:\n",
    "\n",
    "**Trotter Formula**: Let A, and B be Hermitian operators. Then for any real $t$:\n",
    "\n",
    "$$\n",
    "    \\lim_{n\\rightarrow \\infty} ( e^{\\frac{i A t}{n}} e^{\\frac{i B t}{n}})^n = e^{i(A + B) t}\n",
    "$$\n",
    "\n",
    "\n",
    "Proof: By definition: $e^{\\frac{i A t}{n}} = I + \\frac{1}{n} i A t + O \\big( \\frac{1}{n^2} \\big)$, and thus:\n",
    "\n",
    "$$\n",
    "    e^{\\frac{i A t}{n}} e^{\\frac{i B t}{n}} = I + \\frac{1}{n} i (A + B) t + O \\bigg( \\frac{1}{n^2} \\bigg)\n",
    "$$\n",
    "\n",
    "Thus:\n",
    "\n",
    "$$\n",
    "    ( e^{\\frac{i A t}{n}} e^{\\frac{i B t}{n}})^n = I  + \\sum_{k=1}^n \\binom{n}{k} \\frac{1}{n^k} \\big[ i (A + B) t \\big]^k + O \\bigg( \\frac{1}{n} \\bigg)\n",
    "$$\n",
    "\n",
    "Since $\\binom{n}{k} \\frac{1}{n^k} = \\frac{1 + O(\\frac{1}{n})}{k!}$, this gives:\n",
    "\n",
    "$$\n",
    "    \\lim_{n \\rightarrow \\infty} (e^{\\frac{i A t}{n}} e^{\\frac{i B t}{n}})^n = \\lim_{n \\rightarrow \\infty} \\sum_{k=0}^n \\frac{(i (A+B) t)^k}{k!} \\bigg( 1 + O \\bigg( \\frac{1}{n} \\bigg) \\bigg) + O \\bigg( \\frac{1}{n} \\bigg) = e^{i(A+B)t}\n",
    "$$\n",
    "\n",
    "We can also prove the following statements:\n",
    "\n",
    "$$\n",
    "    e^{i(A+B) \\Delta t} = e^{iA \\Delta t} e^{iB \\Delta t} + O ( \\Delta t^2) \\ \\ \\ \\ \\ e^{i (A + B) \\Delta t} = e^{iA \\Delta t / 2} e^{iB \\Delta t} e^{iA \\Delta t / 2} + O( \\Delta t^3)\n",
    "$$"
   ]
  },
  {
   "cell_type": "markdown",
   "id": "e8ef45f7",
   "metadata": {},
   "source": [
    "## Simple example\n",
    "\n",
    "Let's see a class of Hamiltonians that can be expressed efficiently into a quantum circuit. Suppose that we have the following Hamiltonian:\n",
    "\n",
    "$$\n",
    "    H = Z_1 \\otimes Z_2 \\otimes \\dots \\otimes Z_n\n",
    "$$\n",
    "\n",
    "Which acts on a n-qubit system. How can we simulate $e^{-iH\\Delta t}$ efficiently?\n",
    "\n",
    "First, let's suppose that $n=2$ and see the action of the $Z \\otimes Z = ZZ$ operator in the computational basis:\n",
    "\n",
    "$$\n",
    "\\begin{split}\n",
    "    ZZ | 00 \\rangle = | 00 \\rangle \\ \\ \\ \\ \\ \\ \\ ZZ | 10 \\rangle = - | 10 \\rangle \\\\\n",
    "    ZZ | 01 \\rangle = - | 01 \\rangle \\ \\ \\ \\ \\ \\ \\ ZZ | 11 \\rangle = | 11 \\rangle \\\\\n",
    "\\end{split}\n",
    "$$\n",
    "\n",
    "Thus the exponentiation of $ZZ$ can be computed using the parity and one rotation along the $Z$ axis. Let's show how this works in `qiskit`, for this we would use the [qiskit.opflow](https://qiskit.org/documentation/apidoc/opflow.html)."
   ]
  },
  {
   "cell_type": "code",
   "execution_count": 72,
   "id": "af4733d2",
   "metadata": {},
   "outputs": [],
   "source": [
    "# Let's import all functions\n",
    "import numpy as np\n",
    "import scipy as sp\n",
    "from qiskit import Aer\n",
    "from qiskit.opflow import PauliTrotterEvolution, StateFn, PauliExpectation\n",
    "from qiskit.opflow import CircuitSampler, PauliOp\n",
    "from qiskit.opflow import I, X, Y, Z, Zero, One, Plus, Minus\n",
    "from qiskit.circuit import Parameter"
   ]
  },
  {
   "cell_type": "markdown",
   "id": "5659851d",
   "metadata": {},
   "source": [
    "We can define a Pauli matrix hamiltonian using simple notation:"
   ]
  },
  {
   "cell_type": "code",
   "execution_count": 7,
   "id": "b93e0a09",
   "metadata": {},
   "outputs": [],
   "source": [
    "hamiltonian = (Z^Z)"
   ]
  },
  {
   "cell_type": "markdown",
   "id": "b5511695",
   "metadata": {},
   "source": [
    "Where `^` represents the tensor product."
   ]
  },
  {
   "cell_type": "code",
   "execution_count": 5,
   "id": "31c9e9aa",
   "metadata": {},
   "outputs": [
    {
     "name": "stdout",
     "output_type": "stream",
     "text": [
      "e^(-i*1.0*t * ZZ)\n"
     ]
    }
   ],
   "source": [
    "evo_time = Parameter('t')\n",
    "evolution_op = (evo_time*hamiltonian).exp_i()\n",
    "print(evolution_op) "
   ]
  },
  {
   "cell_type": "markdown",
   "id": "01fba8b2",
   "metadata": {},
   "source": [
    "Let's convert this evolution operator into a circuit using Trotter Expansion:"
   ]
  },
  {
   "cell_type": "code",
   "execution_count": 14,
   "id": "f8d302d5",
   "metadata": {},
   "outputs": [
    {
     "data": {
      "image/png": "[encoded data removed]",
      "text/plain": [
       "<Figure size 507.852x144.48 with 1 Axes>"
      ]
     },
     "execution_count": 14,
     "metadata": {},
     "output_type": "execute_result"
    }
   ],
   "source": [
    "num_time_slices = 1\n",
    "trotterized_op = PauliTrotterEvolution(\n",
    "                    trotter_mode='trotter', \n",
    "                    reps=num_time_slices).convert(evolution_op)\n",
    "trotterized_op.to_circuit().draw()"
   ]
  },
  {
   "cell_type": "markdown",
   "id": "62671d79",
   "metadata": {},
   "source": [
    "We can calculate $XX$ or $YY$, using $X = HZX$ and $Y = (H S^\\dagger)^\\dagger Z (H S^\\dagger)$ in order to make a change of basis. Let's show this using qiskit:"
   ]
  },
  {
   "cell_type": "code",
   "execution_count": 15,
   "id": "52dd5f2f",
   "metadata": {},
   "outputs": [
    {
     "data": {
      "image/png": "[encoded data removed]",
      "text/plain": [
       "<Figure size 628.252x144.48 with 1 Axes>"
      ]
     },
     "execution_count": 15,
     "metadata": {},
     "output_type": "execute_result"
    }
   ],
   "source": [
    "hamiltonian = (X^X)\n",
    "evo_time = Parameter('t')\n",
    "evolution_op = (evo_time*hamiltonian).exp_i()\n",
    "num_time_slices = 1\n",
    "trotterized_op = PauliTrotterEvolution(\n",
    "                    trotter_mode='trotter', \n",
    "                    reps=num_time_slices).convert(evolution_op)\n",
    "trotterized_op.to_circuit().draw()"
   ]
  },
  {
   "cell_type": "code",
   "execution_count": 34,
   "id": "fc037dd0",
   "metadata": {
    "scrolled": true
   },
   "outputs": [
    {
     "data": {
      "image/png": "[encoded data removed]",
      "text/plain": [
       "<Figure size 628.252x144.48 with 1 Axes>"
      ]
     },
     "execution_count": 34,
     "metadata": {},
     "output_type": "execute_result"
    }
   ],
   "source": [
    "hamiltonian = (Y^Y)\n",
    "evo_time = Parameter('t')\n",
    "evolution_op = (evo_time*hamiltonian).exp_i()\n",
    "num_time_slices = 1\n",
    "trotterized_op = PauliTrotterEvolution(\n",
    "                    trotter_mode='trotter', \n",
    "                    reps=num_time_slices).convert(evolution_op)\n",
    "trotterized_op.to_circuit().draw()"
   ]
  },
  {
   "cell_type": "markdown",
   "id": "cdab350b",
   "metadata": {},
   "source": [
    "This can be extended for an arbitrary number of qubits! Thus, we apply the phase-shift $e^{- i\\Delta t}$ if the parity of the $n$ qubits in the computational basis is even; otherwise, the phase-shift should be $e^{i \\Delta t}$. Therefore, we can efficiently simulate this kind of Hamiltonian into a Quantum Circuit by storing the parity in a auxiliary qubit and apply the phase-shift conditioned on the parity, then uncomputing the parity (to erase the auxiliary qubit). Let's show one example:"
   ]
  },
  {
   "cell_type": "code",
   "execution_count": 17,
   "id": "2622a075",
   "metadata": {},
   "outputs": [
    {
     "data": {
      "image/png": "[encoded data removed]",
      "text/plain": [
       "<Figure size 808.997x264.88 with 1 Axes>"
      ]
     },
     "execution_count": 17,
     "metadata": {},
     "output_type": "execute_result"
    }
   ],
   "source": [
    "hamiltonian = (Z^Z^Z^Z)\n",
    "evo_time = Parameter('t')\n",
    "evolution_op = (evo_time*hamiltonian).exp_i()\n",
    "num_time_slices = 1\n",
    "trotterized_op = PauliTrotterEvolution(\n",
    "                    trotter_mode='trotter', \n",
    "                    reps=num_time_slices).convert(evolution_op)\n",
    "trotterized_op.to_circuit().draw()"
   ]
  },
  {
   "cell_type": "markdown",
   "id": "9bea7d5f",
   "metadata": {},
   "source": [
    "## End-to-end simulation\n",
    "\n",
    "After this introduction, we can show how to implement an end-to-end simulation of a simple hamiltonian and how we can measure it in real quantum computers.\n",
    "\n",
    "Let's define a simple hamiltonian, such as $H = ZZ + XX$ and measure an observable such as $ O = XX $."
   ]
  },
  {
   "cell_type": "code",
   "execution_count": 43,
   "id": "6868badb",
   "metadata": {},
   "outputs": [],
   "source": [
    "hamiltonian = (Z^Z) + (X^X)\n",
    "observable = (X^X)\n",
    "evo_time = Parameter('t')\n",
    "evolution_op = (evo_time*hamiltonian).exp_i()"
   ]
  },
  {
   "cell_type": "markdown",
   "id": "9404f7e2",
   "metadata": {},
   "source": [
    "We can convert the observable into a state function using the `StateFn` and transform into an measurement using the `.adjoint()` method."
   ]
  },
  {
   "cell_type": "code",
   "execution_count": 44,
   "id": "6519fefe",
   "metadata": {},
   "outputs": [],
   "source": [
    "observable_measurement = StateFn(observable).adjoint()"
   ]
  },
  {
   "cell_type": "markdown",
   "id": "bd9571ac",
   "metadata": {},
   "source": [
    "Let's define an initial state that is an eigenvalue of the Hamiltonian:"
   ]
  },
  {
   "cell_type": "code",
   "execution_count": 32,
   "id": "87e07590",
   "metadata": {},
   "outputs": [
    {
     "name": "stdout",
     "output_type": "stream",
     "text": [
      "CircuitStateFn(\n",
      "     ┌────────────────────────────────────┐\n",
      "q_0: ┤0                                   ├\n",
      "     │  initialize(0,-0.70711,0,-0.70711) │\n",
      "q_1: ┤1                                   ├\n",
      "     └────────────────────────────────────┘\n",
      ") * 0.9999999999999999\n"
     ]
    }
   ],
   "source": [
    "eigenvalues, eigenstates = np.linalg.eigh(hamiltonian.to_matrix())\n",
    "initial_state = StateFn(eigenstates[0])\n",
    "print(initial_state.to_circuit_op())"
   ]
  },
  {
   "cell_type": "markdown",
   "id": "35e95370",
   "metadata": {},
   "source": [
    "Using the operator flow, we can easily combine circuits, thus what is represented by the following equation:\n",
    "\n",
    "$$\n",
    "\\langle O \\rangle = \\langle \\psi(t) | O | \\psi(t) \\rangle\n",
    "$$\n",
    "\n",
    "Can be represented by the following line:"
   ]
  },
  {
   "cell_type": "code",
   "execution_count": 59,
   "id": "20a0d177",
   "metadata": {},
   "outputs": [
    {
     "name": "stdout",
     "output_type": "stream",
     "text": [
      "ComposedOp([\n",
      "  OperatorMeasurement(XX),\n",
      "  e^(-i*1.0*t * (\n",
      "    1.0 * ZZ\n",
      "    + 1.0 * XX\n",
      "  )),\n",
      "  VectorStateFn(Statevector([ 0.        +0.j, -0.70710678+0.j,  0.        +0.j,\n",
      "               -0.70710678+0.j],\n",
      "              dims=(2, 2)))\n",
      "])\n"
     ]
    }
   ],
   "source": [
    "evo_and_measure = observable_measurement @ evolution_op @ initial_state\n",
    "print(evo_and_measure)"
   ]
  },
  {
   "cell_type": "markdown",
   "id": "254cd513",
   "metadata": {},
   "source": [
    "Now we can convert our hamiltonian simulation using the PauliTrotter evolution:"
   ]
  },
  {
   "cell_type": "code",
   "execution_count": 65,
   "id": "adb85057",
   "metadata": {},
   "outputs": [
    {
     "name": "stdout",
     "output_type": "stream",
     "text": [
      "ComposedOp([\n",
      "  OperatorMeasurement(XX),\n",
      "  global phase: 0\n",
      "       ┌───┐┌───┐┌───────────┐┌───┐┌───┐┌───┐┌───────────┐┌───┐\n",
      "  q_0: ┤ H ├┤ X ├┤ RZ(2.0*t) ├┤ X ├┤ H ├┤ X ├┤ RZ(2.0*t) ├┤ X ├\n",
      "       ├───┤└─┬─┘└───────────┘└─┬─┘├───┤└─┬─┘└───────────┘└─┬─┘\n",
      "  q_1: ┤ H ├──■─────────────────■──┤ H ├──■─────────────────■──\n",
      "       └───┘                       └───┘                       ,\n",
      "  VectorStateFn(Statevector([ 0.        +0.j, -0.70710678+0.j,  0.        +0.j,\n",
      "               -0.70710678+0.j],\n",
      "              dims=(2, 2)))\n",
      "])\n"
     ]
    }
   ],
   "source": [
    "num_time_slices = 1\n",
    "trotterized_op = PauliTrotterEvolution(\n",
    "                    trotter_mode='trotter', \n",
    "                    reps=num_time_slices).convert(evo_and_measure)\n",
    "print(trotterized_op)"
   ]
  },
  {
   "cell_type": "markdown",
   "id": "66e48f6e",
   "metadata": {},
   "source": [
    "Now we need to convert our circuit in order to measure in a real quantum computer, this is done by using `PauliExpectation()`."
   ]
  },
  {
   "cell_type": "code",
   "execution_count": 67,
   "id": "c43e713e",
   "metadata": {},
   "outputs": [
    {
     "name": "stdout",
     "output_type": "stream",
     "text": [
      "ComposedOp([\n",
      "  OperatorMeasurement(ZZ),\n",
      "  global phase: 0\n",
      "       ┌───┐┌───┐┌───────────┐┌───┐┌───┐┌───┐┌───────────┐┌───┐┌───┐\n",
      "  q_0: ┤ H ├┤ X ├┤ RZ(2.0*t) ├┤ X ├┤ H ├┤ X ├┤ RZ(2.0*t) ├┤ X ├┤ H ├\n",
      "       ├───┤└─┬─┘└───────────┘└─┬─┘├───┤└─┬─┘└───────────┘└─┬─┘├───┤\n",
      "  q_1: ┤ H ├──■─────────────────■──┤ H ├──■─────────────────■──┤ H ├\n",
      "       └───┘                       └───┘                       └───┘,\n",
      "  VectorStateFn(Statevector([ 0.        +0.j, -0.70710678+0.j,  0.        +0.j,\n",
      "               -0.70710678+0.j],\n",
      "              dims=(2, 2)))\n",
      "])\n"
     ]
    }
   ],
   "source": [
    "# Let's calculate expectation values\n",
    "diagonalized_meas_op = PauliExpectation().convert(trotterized_op)\n",
    "print(diagonalized_meas_op)"
   ]
  },
  {
   "cell_type": "markdown",
   "id": "529e4ad5",
   "metadata": {},
   "source": [
    "Now we can get the expected value of the observable using the `.eval()` method for times `evo_time_points`. \n",
    "\n",
    "This will run our hamiltonian simulation on an ideal quantum computer."
   ]
  },
  {
   "cell_type": "code",
   "execution_count": 82,
   "id": "3feab4f0",
   "metadata": {},
   "outputs": [
    {
     "name": "stdout",
     "output_type": "stream",
     "text": [
      "Observable at time [0.5, 0.75]: [0.+0.j 0.+0.j]\n"
     ]
    }
   ],
   "source": [
    "evo_time_points = [0.5, 0.75]\n",
    "hamiltonian_trotter_expectations = diagonalized_meas_op.bind_parameters({evo_time: evo_time_points})\n",
    "print(f\"Observable at time {evo_time_points}: {np.round(hamiltonian_trotter_expectations.eval(), 3)}\")"
   ]
  },
  {
   "cell_type": "markdown",
   "id": "205e569f",
   "metadata": {},
   "source": [
    "Even though this works, this is not how we would run on real quantum computers, for this we sould convert our operator flow program using `CircuitSampler` and choose a backend to run it. \n"
   ]
  },
  {
   "cell_type": "code",
   "execution_count": 83,
   "id": "95235d52",
   "metadata": {},
   "outputs": [
    {
     "name": "stdout",
     "output_type": "stream",
     "text": [
      "Energies: [ 0.055 -0.02 ]\n"
     ]
    }
   ],
   "source": [
    "sampler = CircuitSampler(backend=Aer.get_backend(\"qasm_simulator\"))\n",
    "# sampler.quantum_instance.run_config.shots = 1000\n",
    "sampled_trotter_exp_op = sampler.convert(hamiltonian_trotter_expectations)\n",
    "sampled_trotter_energies = sampled_trotter_exp_op.eval()\n",
    "print(f\"Energies: {np.round(np.real(sampled_trotter_energies),3)}\")"
   ]
  },
  {
   "cell_type": "markdown",
   "id": "614a0f69",
   "metadata": {},
   "source": [
    "Running on the `qasm_simulator` leads to statistical error associated to the number of shots, which can be seen on the folowing plot."
   ]
  },
  {
   "cell_type": "code",
   "execution_count": 117,
   "id": "0a7be649",
   "metadata": {},
   "outputs": [
    {
     "data": {
      "image/png": "[encoded data removed]",
      "text/plain": [
       "<Figure size 432x288 with 1 Axes>"
      ]
     },
     "metadata": {
      "needs_background": "light"
     },
     "output_type": "display_data"
    }
   ],
   "source": [
    "import matplotlib.pyplot as plt\n",
    "\n",
    "def run_hs(shots):\n",
    "    sampler = CircuitSampler(backend=Aer.get_backend(\"qasm_simulator\"))\n",
    "    sampler.quantum_instance.run_config.shots = shots\n",
    "    hamiltonian_trotter_expectations = diagonalized_meas_op.bind_parameters({evo_time: 0.5})\n",
    "    sampled_trotter_exp_op = sampler.convert(hamiltonian_trotter_expectations)\n",
    "    sampled_trotter_energies = sampled_trotter_exp_op.eval()\n",
    "    return np.real(sampled_trotter_energies)\n",
    "\n",
    "n_shots = [100, 1000, 2000, 5000, 7000, 10000]\n",
    "exp = []\n",
    "for shots in n_shots:\n",
    "    exp.append(run_hs(shots))\n",
    "\n",
    "plt.plot(n_shots, exp, 'o', label=f\"t={0.5}\")\n",
    "plt.hlines(y=0., xmin=min(n_shots), xmax=max(n_shots) + 1, colors='red')\n",
    "plt.xlabel(\"# shots\", size=16)\n",
    "plt.ylabel(r\"$ \\langle O \\rangle $\", size=16)\n",
    "plt.show()"
   ]
  },
  {
   "cell_type": "markdown",
   "id": "76685765",
   "metadata": {},
   "source": [
    "# References\n",
    "\n",
    "- Nielsen, Michael A., and Isaac Chuang. \"Quantum computation and quantum information.\" (2002): 558-559.\n",
    "- [Operator Flow Tutorial](https://qiskit.org/documentation/tutorials/operators/01_operator_flow.html)."
   ]
  }
 ],
 "metadata": {
  "kernelspec": {
   "display_name": "Python 3",
   "language": "python",
   "name": "python3"
  },
  "language_info": {
   "codemirror_mode": {
    "name": "ipython",
    "version": 3
   },
   "file_extension": ".py",
   "mimetype": "text/x-python",
   "name": "python",
   "nbconvert_exporter": "python",
   "pygments_lexer": "ipython3",
   "version": "3.8.8"
  }
 },
 "nbformat": 4,
 "nbformat_minor": 5
}
