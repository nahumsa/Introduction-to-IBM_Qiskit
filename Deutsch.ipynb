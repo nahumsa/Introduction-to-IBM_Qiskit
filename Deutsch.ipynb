{
 "cells": [
  {
   "cell_type": "code",
   "execution_count": 1,
   "metadata": {},
   "outputs": [
    {
     "data": {
      "text/html": [
       "<h3>Version Information</h3><table><tr><th>Qiskit Software</th><th>Version</th></tr><tr><td>Qiskit</td><td>0.12.1</td></tr><tr><td>Terra</td><td>0.9.0</td></tr><tr><td>Aer</td><td>0.3.0</td></tr><tr><td>Ignis</td><td>0.2.0</td></tr><tr><td>Aqua</td><td>0.6.0</td></tr><tr><td>IBM Q Provider</td><td>0.3.3</td></tr><tr><th>System information</th></tr><tr><td>Python</td><td>3.7.3 | packaged by conda-forge | (default, Jul  1 2019, 21:52:21) \n",
       "[GCC 7.3.0]</td></tr><tr><td>OS</td><td>Linux</td></tr><tr><td>CPUs</td><td>2</td></tr><tr><td>Memory (Gb)</td><td>7.676151275634766</td></tr><tr><td colspan='2'>Wed Oct 16 21:43:21 2019 -03</td></tr></table>"
      ],
      "text/plain": [
       "<IPython.core.display.HTML object>"
      ]
     },
     "metadata": {},
     "output_type": "display_data"
    }
   ],
   "source": [
    "import qiskit.tools.jupyter\n",
    "%qiskit_version_table"
   ]
  },
  {
   "cell_type": "markdown",
   "metadata": {},
   "source": [
    "# Deutsch Algorithm\n",
    "\n",
    "**Problem**: Consider an oracle evaluating a 1 bit boolean function $f: \\{ 0,1\\} \\rightarrow \\{ 0,1\\}$ we want to know if the function is constant ( $f(0) = 0$ and $f(1) = 1$) or balanced ( $f(0) = 1$ and $f(1) = 0$). \n",
    "\n",
    "For a classical computer it is needed two queries, that means, you need to test 2 diferent bits and see the outputs, for instance if $f(0) = 0$ and $f(1) = 1$ you know that the function is constant.\n",
    "\n",
    "For a quantum computer this can be done with only one query. This is done with the Deutsch algorithm, the idea is to check if it is balanced, if it is not balanced it is constant."
   ]
  },
  {
   "cell_type": "code",
   "execution_count": 2,
   "metadata": {},
   "outputs": [],
   "source": [
    "%matplotlib inline\n",
    "import qiskit as Qsk\n",
    "import numpy as np\n",
    "import matplotlib.pyplot as plt"
   ]
  },
  {
   "cell_type": "code",
   "execution_count": 3,
   "metadata": {},
   "outputs": [],
   "source": [
    "Q_Circuit = Qsk.QuantumCircuit(2)"
   ]
  },
  {
   "cell_type": "markdown",
   "metadata": {},
   "source": [
    "We start with the state $\\left| \\psi_0 \\right>$ $= \\left| 00 \\right>$ "
   ]
  },
  {
   "cell_type": "code",
   "execution_count": 4,
   "metadata": {},
   "outputs": [],
   "source": [
    "Q_Circuit.x(0);"
   ]
  },
  {
   "cell_type": "markdown",
   "metadata": {},
   "source": [
    "Since the X gate is:\n",
    "\n",
    "\\begin{equation}\n",
    "X = \n",
    " \\begin{pmatrix} \n",
    "0 & 1\\\\\n",
    "1 & 0 \\\\\n",
    "\\end{pmatrix}\n",
    "\\end{equation}\n",
    "\n",
    "Now the state is $\\left| \\psi_1 \\right>$ $= \\left| 10 \\right>$"
   ]
  },
  {
   "cell_type": "code",
   "execution_count": 5,
   "metadata": {},
   "outputs": [],
   "source": [
    "Q_Circuit.h(0);\n",
    "Q_Circuit.h(1);"
   ]
  },
  {
   "cell_type": "markdown",
   "metadata": {},
   "source": [
    "Since the Haddamard gate is given by the following matrix on the computational basis:\n",
    "\n",
    "\\begin{equation}\n",
    "H = \\frac{1}{\\sqrt2}\n",
    " \\begin{pmatrix} \n",
    "1 & 1\\\\\n",
    "1 & -1 \\\\\n",
    "\\end{pmatrix}\n",
    "\\end{equation}\n",
    "\n",
    "Now the state is $\\left| \\psi_2 \\right> =$ $\\frac{1}{2} \\left( \\left| 0 \\right> -\\left| 1 \\right> \\right) \\otimes \\left( \\left| 0 \\right> +\\left| 1 \\right> \\right) $"
   ]
  },
  {
   "cell_type": "code",
   "execution_count": 6,
   "metadata": {},
   "outputs": [],
   "source": [
    "Q_Circuit.cx(1,0);"
   ]
  },
  {
   "cell_type": "markdown",
   "metadata": {},
   "source": [
    "Since the $C_x$ gate is a two qubit gate given by the following matrix on the computational basis:\n",
    "\n",
    "\\begin{equation}\n",
    "C_x = \n",
    " \\begin{pmatrix} \n",
    "1 & 0 & 0 & 0 \\\\\n",
    "0 & 1 & 0 & 0 \\\\\n",
    "0 & 0 & 0 & 1 \\\\\n",
    "0 & 0 & 1 & 0 \\\\\n",
    "\\end{pmatrix}\n",
    "\\end{equation}\n",
    "\n",
    "Now the state is $\\left| \\psi_3 \\right> = $ $\\frac{1}{2} \\left[ \\left( \\left| 0 \\right> - \\left| 1 \\right> \\right) \\otimes \\left| 0 \\right> + \\left( \\left| 1 \\right> - \\left| 0 \\right> \\right) \\otimes \\left| 1 \\right> \\right] $"
   ]
  },
  {
   "cell_type": "code",
   "execution_count": 7,
   "metadata": {},
   "outputs": [],
   "source": [
    "Q_Circuit.h(1);"
   ]
  },
  {
   "cell_type": "markdown",
   "metadata": {},
   "source": [
    "Using the Hadamard gate the state is \n",
    "\n",
    "$\\left| \\psi_4 \\right> = $ $\\frac{1}{2\\sqrt2} \\left[ \\left( \\left| 0 \\right> - \\left| 1 \\right> \\right) \\otimes \\left( \\left| 0 \\right> + \\left| 1 \\right> \\right) + \\left( \\left| 1 \\right> - \\left| 0 \\right> \\right) \\otimes \\left( \\left| 0 \\right> - \\left| 1 \\right> \\right) \\right] $\n",
    "\n",
    "$\\left| \\psi_4 \\right> = $ $ \\frac{1}{\\sqrt2} \\left( \\left| 0 \\right> - \\left| 1 \\right> \\right) \\otimes \\left| 1 \\right> $\n",
    "\n",
    "Since Qiskit reads the qubit string from right to left this state on Qiskit is:\n",
    "\n",
    "$\\left| \\psi_4 \\right> = $ $ \\frac{1}{\\sqrt2} \\left( \\left| 10 \\right> - \\left| 11 \\right> \\right) $\n"
   ]
  },
  {
   "cell_type": "markdown",
   "metadata": {},
   "source": [
    "## Building a measurement circuit and making experiments"
   ]
  },
  {
   "cell_type": "code",
   "execution_count": 12,
   "metadata": {},
   "outputs": [
    {
     "data": {
      "image/png": "[encoded data removed]",
      "text/plain": [
       "<Figure size 577.92x204.68 with 1 Axes>"
      ]
     },
     "execution_count": 12,
     "metadata": {},
     "output_type": "execute_result"
    }
   ],
   "source": [
    "circ_meas = Qsk.QuantumCircuit(2, 2)\n",
    "circ_meas.barrier(range(2))\n",
    "circ_meas.measure(range(2),range(2))\n",
    "final_circ = Q_Circuit+circ_meas\n",
    "final_circ.draw(output='mpl')"
   ]
  },
  {
   "cell_type": "code",
   "execution_count": 13,
   "metadata": {},
   "outputs": [
    {
     "name": "stdout",
     "output_type": "stream",
     "text": [
      "{'11': 512, '10': 512}\n"
     ]
    }
   ],
   "source": [
    "backend_sim = Qsk.Aer.get_backend('qasm_simulator')\n",
    "job_sim = Qsk.execute(final_circ, backend_sim, shots=1024)\n",
    "result_sim = job_sim.result()\n",
    "counts = result_sim.get_counts(final_circ)\n",
    "print(counts)"
   ]
  },
  {
   "cell_type": "code",
   "execution_count": 14,
   "metadata": {},
   "outputs": [
    {
     "data": {
      "image/png": "[encoded data removed]",
      "text/plain": [
       "<Figure size 504x360 with 1 Axes>"
      ]
     },
     "execution_count": 14,
     "metadata": {},
     "output_type": "execute_result"
    }
   ],
   "source": [
    "from qiskit.visualization import plot_histogram\n",
    "plot_histogram(counts)"
   ]
  },
  {
   "cell_type": "code",
   "execution_count": null,
   "metadata": {},
   "outputs": [],
   "source": [
    "IBMQ.load_account();\n",
    "provider = IBMQ.get_provider(group='open')"
   ]
  },
  {
   "cell_type": "code",
   "execution_count": null,
   "metadata": {},
   "outputs": [],
   "source": [
    "from Q_Functions import Print_status\n",
    "Print_status()"
   ]
  }
 ],
 "metadata": {
  "kernelspec": {
   "display_name": "qiskit",
   "language": "python",
   "name": "qiskit"
  },
  "language_info": {
   "codemirror_mode": {
    "name": "ipython",
    "version": 3
   },
   "file_extension": ".py",
   "mimetype": "text/x-python",
   "name": "python",
   "nbconvert_exporter": "python",
   "pygments_lexer": "ipython3",
   "version": "3.7.3"
  }
 },
 "nbformat": 4,
 "nbformat_minor": 2
}
